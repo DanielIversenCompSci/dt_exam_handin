{
 "cells": [
  {
   "cell_type": "markdown",
   "metadata": {
    "id": "xo5Wu2ZVOfj3"
   },
   "source": [
    "# 2: Data engineering\n",
    "\n",
    "The hand-in exercise for this topic is Task 7 from the notebook “DE_Task.ipynb”. The\n",
    "exercise asks you to wrap the functionality of other tasks in this notebook into an ETL\n",
    "pipeline. Note that the GroupBY tasks (which are extra) are not needed in this ETL\n",
    "pipeline. The data visualization parts are also not needed. The pipeline should contain\n",
    "some of the data cleaning (such as removing duplicates and nulls) and then creation of\n",
    "features which are part of task 4 and 5."
   ]
  },
  {
   "cell_type": "markdown",
   "metadata": {
    "id": "XA6ebZ3hOiMH"
   },
   "source": [
    "### Assemble and imports\n",
    "\n",
    "Download dataset from kaggle and import needed libs."
   ]
  },
  {
   "cell_type": "code",
   "execution_count": 33,
   "metadata": {
    "executionInfo": {
     "elapsed": 14,
     "status": "ok",
     "timestamp": 1741999195847,
     "user": {
      "displayName": "Daniel Iversen",
      "userId": "04843677771367093898"
     },
     "user_tz": -60
    },
    "id": "_Z1oN-GrOjj9"
   },
   "outputs": [],
   "source": [
    "import pandas as pd\n",
    "import numpy as np\n",
    "import matplotlib.pyplot as plt\n",
    "import seaborn as sns\n",
    "import kagglehub\n",
    "import os"
   ]
  },
  {
   "cell_type": "code",
   "execution_count": 34,
   "metadata": {
    "colab": {
     "base_uri": "https://localhost:8080/"
    },
    "executionInfo": {
     "elapsed": 1251,
     "status": "ok",
     "timestamp": 1741999197110,
     "user": {
      "displayName": "Daniel Iversen",
      "userId": "04843677771367093898"
     },
     "user_tz": -60
    },
    "id": "O-cVv-FNOkmW",
    "outputId": "b3f670f8-7d05-4ba3-d6f4-5fb40f6d5260"
   },
   "outputs": [
    {
     "name": "stdout",
     "output_type": "stream",
     "text": [
      "Path to dataset files: C:\\Users\\danie\\.cache\\kagglehub\\datasets\\lakshmi25npathi\\online-retail-dataset\\versions\\1\n"
     ]
    }
   ],
   "source": [
    "path = kagglehub.dataset_download(\"lakshmi25npathi/online-retail-dataset\")\n",
    "\n",
    "print(\"Path to dataset files:\", path)"
   ]
  },
  {
   "cell_type": "code",
   "execution_count": 35,
   "metadata": {
    "colab": {
     "base_uri": "https://localhost:8080/"
    },
    "executionInfo": {
     "elapsed": 3,
     "status": "ok",
     "timestamp": 1741999197113,
     "user": {
      "displayName": "Daniel Iversen",
      "userId": "04843677771367093898"
     },
     "user_tz": -60
    },
    "id": "5KhUrUleOmHA",
    "outputId": "b351aad3-0abb-4251-8d1a-40708c13a3b3"
   },
   "outputs": [
    {
     "name": "stdout",
     "output_type": "stream",
     "text": [
      "['online_retail_II.xlsx']\n"
     ]
    }
   ],
   "source": [
    "dataset_path = \"C:/Users/danie/.cache/kagglehub/datasets/lakshmi25npathi/online-retail-dataset/versions/1\"\n",
    "\n",
    "files = os.listdir(dataset_path)\n",
    "print(files)\n"
   ]
  },
  {
   "cell_type": "code",
   "execution_count": 36,
   "metadata": {
    "executionInfo": {
     "elapsed": 36898,
     "status": "ok",
     "timestamp": 1741999234017,
     "user": {
      "displayName": "Daniel Iversen",
      "userId": "04843677771367093898"
     },
     "user_tz": -60
    },
    "id": "8MBns6taPjsu"
   },
   "outputs": [],
   "source": [
    "file_path = \"C:/Users/danie/.cache/kagglehub/datasets/lakshmi25npathi/online-retail-dataset/versions/1/online_retail_II.xlsx\"\n",
    "\n",
    "df = pd.read_excel(file_path)"
   ]
  },
  {
   "cell_type": "markdown",
   "metadata": {
    "id": "p9kW7psyOnHH"
   },
   "source": [
    "---"
   ]
  },
  {
   "cell_type": "markdown",
   "metadata": {
    "id": "EVBfbI37OoFU"
   },
   "source": [
    "### Datacleaning\n",
    "\n",
    "First looks, datacleaning to prepare data for visulization and ideation."
   ]
  },
  {
   "cell_type": "code",
   "execution_count": 37,
   "metadata": {
    "colab": {
     "base_uri": "https://localhost:8080/",
     "height": 206
    },
    "executionInfo": {
     "elapsed": 6,
     "status": "ok",
     "timestamp": 1741999234025,
     "user": {
      "displayName": "Daniel Iversen",
      "userId": "04843677771367093898"
     },
     "user_tz": -60
    },
    "id": "teISt9wkOpDp",
    "outputId": "dba1511f-218b-4797-c70a-30c93a93cd73"
   },
   "outputs": [
    {
     "data": {
      "text/html": [
       "<div>\n",
       "<style scoped>\n",
       "    .dataframe tbody tr th:only-of-type {\n",
       "        vertical-align: middle;\n",
       "    }\n",
       "\n",
       "    .dataframe tbody tr th {\n",
       "        vertical-align: top;\n",
       "    }\n",
       "\n",
       "    .dataframe thead th {\n",
       "        text-align: right;\n",
       "    }\n",
       "</style>\n",
       "<table border=\"1\" class=\"dataframe\">\n",
       "  <thead>\n",
       "    <tr style=\"text-align: right;\">\n",
       "      <th></th>\n",
       "      <th>Invoice</th>\n",
       "      <th>StockCode</th>\n",
       "      <th>Description</th>\n",
       "      <th>Quantity</th>\n",
       "      <th>InvoiceDate</th>\n",
       "      <th>Price</th>\n",
       "      <th>Customer ID</th>\n",
       "      <th>Country</th>\n",
       "    </tr>\n",
       "  </thead>\n",
       "  <tbody>\n",
       "    <tr>\n",
       "      <th>0</th>\n",
       "      <td>489434</td>\n",
       "      <td>85048</td>\n",
       "      <td>15CM CHRISTMAS GLASS BALL 20 LIGHTS</td>\n",
       "      <td>12</td>\n",
       "      <td>2009-12-01 07:45:00</td>\n",
       "      <td>6.95</td>\n",
       "      <td>13085.0</td>\n",
       "      <td>United Kingdom</td>\n",
       "    </tr>\n",
       "    <tr>\n",
       "      <th>1</th>\n",
       "      <td>489434</td>\n",
       "      <td>79323P</td>\n",
       "      <td>PINK CHERRY LIGHTS</td>\n",
       "      <td>12</td>\n",
       "      <td>2009-12-01 07:45:00</td>\n",
       "      <td>6.75</td>\n",
       "      <td>13085.0</td>\n",
       "      <td>United Kingdom</td>\n",
       "    </tr>\n",
       "    <tr>\n",
       "      <th>2</th>\n",
       "      <td>489434</td>\n",
       "      <td>79323W</td>\n",
       "      <td>WHITE CHERRY LIGHTS</td>\n",
       "      <td>12</td>\n",
       "      <td>2009-12-01 07:45:00</td>\n",
       "      <td>6.75</td>\n",
       "      <td>13085.0</td>\n",
       "      <td>United Kingdom</td>\n",
       "    </tr>\n",
       "    <tr>\n",
       "      <th>3</th>\n",
       "      <td>489434</td>\n",
       "      <td>22041</td>\n",
       "      <td>RECORD FRAME 7\" SINGLE SIZE</td>\n",
       "      <td>48</td>\n",
       "      <td>2009-12-01 07:45:00</td>\n",
       "      <td>2.10</td>\n",
       "      <td>13085.0</td>\n",
       "      <td>United Kingdom</td>\n",
       "    </tr>\n",
       "    <tr>\n",
       "      <th>4</th>\n",
       "      <td>489434</td>\n",
       "      <td>21232</td>\n",
       "      <td>STRAWBERRY CERAMIC TRINKET BOX</td>\n",
       "      <td>24</td>\n",
       "      <td>2009-12-01 07:45:00</td>\n",
       "      <td>1.25</td>\n",
       "      <td>13085.0</td>\n",
       "      <td>United Kingdom</td>\n",
       "    </tr>\n",
       "  </tbody>\n",
       "</table>\n",
       "</div>"
      ],
      "text/plain": [
       "  Invoice StockCode                          Description  Quantity  \\\n",
       "0  489434     85048  15CM CHRISTMAS GLASS BALL 20 LIGHTS        12   \n",
       "1  489434    79323P                   PINK CHERRY LIGHTS        12   \n",
       "2  489434    79323W                  WHITE CHERRY LIGHTS        12   \n",
       "3  489434     22041         RECORD FRAME 7\" SINGLE SIZE         48   \n",
       "4  489434     21232       STRAWBERRY CERAMIC TRINKET BOX        24   \n",
       "\n",
       "          InvoiceDate  Price  Customer ID         Country  \n",
       "0 2009-12-01 07:45:00   6.95      13085.0  United Kingdom  \n",
       "1 2009-12-01 07:45:00   6.75      13085.0  United Kingdom  \n",
       "2 2009-12-01 07:45:00   6.75      13085.0  United Kingdom  \n",
       "3 2009-12-01 07:45:00   2.10      13085.0  United Kingdom  \n",
       "4 2009-12-01 07:45:00   1.25      13085.0  United Kingdom  "
      ]
     },
     "execution_count": 37,
     "metadata": {},
     "output_type": "execute_result"
    }
   ],
   "source": [
    "df.head()"
   ]
  },
  {
   "cell_type": "code",
   "execution_count": 38,
   "metadata": {
    "colab": {
     "base_uri": "https://localhost:8080/"
    },
    "executionInfo": {
     "elapsed": 98,
     "status": "ok",
     "timestamp": 1741999234170,
     "user": {
      "displayName": "Daniel Iversen",
      "userId": "04843677771367093898"
     },
     "user_tz": -60
    },
    "id": "jbRzYU7jOqIj",
    "outputId": "54e5a86e-7a43-4d68-8b69-60684ed49b8c"
   },
   "outputs": [
    {
     "name": "stdout",
     "output_type": "stream",
     "text": [
      "<class 'pandas.core.frame.DataFrame'>\n",
      "RangeIndex: 525461 entries, 0 to 525460\n",
      "Data columns (total 8 columns):\n",
      " #   Column       Non-Null Count   Dtype         \n",
      "---  ------       --------------   -----         \n",
      " 0   Invoice      525461 non-null  object        \n",
      " 1   StockCode    525461 non-null  object        \n",
      " 2   Description  522533 non-null  object        \n",
      " 3   Quantity     525461 non-null  int64         \n",
      " 4   InvoiceDate  525461 non-null  datetime64[ns]\n",
      " 5   Price        525461 non-null  float64       \n",
      " 6   Customer ID  417534 non-null  float64       \n",
      " 7   Country      525461 non-null  object        \n",
      "dtypes: datetime64[ns](1), float64(2), int64(1), object(4)\n",
      "memory usage: 32.1+ MB\n"
     ]
    }
   ],
   "source": [
    "df.info()"
   ]
  },
  {
   "cell_type": "code",
   "execution_count": 39,
   "metadata": {
    "colab": {
     "base_uri": "https://localhost:8080/",
     "height": 300
    },
    "executionInfo": {
     "elapsed": 162,
     "status": "ok",
     "timestamp": 1741999234332,
     "user": {
      "displayName": "Daniel Iversen",
      "userId": "04843677771367093898"
     },
     "user_tz": -60
    },
    "id": "RBX59x8-Op_9",
    "outputId": "d495a741-ffe8-4879-d280-59d5a7a1d928"
   },
   "outputs": [
    {
     "data": {
      "text/html": [
       "<div>\n",
       "<style scoped>\n",
       "    .dataframe tbody tr th:only-of-type {\n",
       "        vertical-align: middle;\n",
       "    }\n",
       "\n",
       "    .dataframe tbody tr th {\n",
       "        vertical-align: top;\n",
       "    }\n",
       "\n",
       "    .dataframe thead th {\n",
       "        text-align: right;\n",
       "    }\n",
       "</style>\n",
       "<table border=\"1\" class=\"dataframe\">\n",
       "  <thead>\n",
       "    <tr style=\"text-align: right;\">\n",
       "      <th></th>\n",
       "      <th>Quantity</th>\n",
       "      <th>InvoiceDate</th>\n",
       "      <th>Price</th>\n",
       "      <th>Customer ID</th>\n",
       "    </tr>\n",
       "  </thead>\n",
       "  <tbody>\n",
       "    <tr>\n",
       "      <th>count</th>\n",
       "      <td>525461.000000</td>\n",
       "      <td>525461</td>\n",
       "      <td>525461.000000</td>\n",
       "      <td>417534.000000</td>\n",
       "    </tr>\n",
       "    <tr>\n",
       "      <th>mean</th>\n",
       "      <td>10.337667</td>\n",
       "      <td>2010-06-28 11:37:36.845017856</td>\n",
       "      <td>4.688834</td>\n",
       "      <td>15360.645478</td>\n",
       "    </tr>\n",
       "    <tr>\n",
       "      <th>min</th>\n",
       "      <td>-9600.000000</td>\n",
       "      <td>2009-12-01 07:45:00</td>\n",
       "      <td>-53594.360000</td>\n",
       "      <td>12346.000000</td>\n",
       "    </tr>\n",
       "    <tr>\n",
       "      <th>25%</th>\n",
       "      <td>1.000000</td>\n",
       "      <td>2010-03-21 12:20:00</td>\n",
       "      <td>1.250000</td>\n",
       "      <td>13983.000000</td>\n",
       "    </tr>\n",
       "    <tr>\n",
       "      <th>50%</th>\n",
       "      <td>3.000000</td>\n",
       "      <td>2010-07-06 09:51:00</td>\n",
       "      <td>2.100000</td>\n",
       "      <td>15311.000000</td>\n",
       "    </tr>\n",
       "    <tr>\n",
       "      <th>75%</th>\n",
       "      <td>10.000000</td>\n",
       "      <td>2010-10-15 12:45:00</td>\n",
       "      <td>4.210000</td>\n",
       "      <td>16799.000000</td>\n",
       "    </tr>\n",
       "    <tr>\n",
       "      <th>max</th>\n",
       "      <td>19152.000000</td>\n",
       "      <td>2010-12-09 20:01:00</td>\n",
       "      <td>25111.090000</td>\n",
       "      <td>18287.000000</td>\n",
       "    </tr>\n",
       "    <tr>\n",
       "      <th>std</th>\n",
       "      <td>107.424110</td>\n",
       "      <td>NaN</td>\n",
       "      <td>146.126914</td>\n",
       "      <td>1680.811316</td>\n",
       "    </tr>\n",
       "  </tbody>\n",
       "</table>\n",
       "</div>"
      ],
      "text/plain": [
       "            Quantity                    InvoiceDate          Price  \\\n",
       "count  525461.000000                         525461  525461.000000   \n",
       "mean       10.337667  2010-06-28 11:37:36.845017856       4.688834   \n",
       "min     -9600.000000            2009-12-01 07:45:00  -53594.360000   \n",
       "25%         1.000000            2010-03-21 12:20:00       1.250000   \n",
       "50%         3.000000            2010-07-06 09:51:00       2.100000   \n",
       "75%        10.000000            2010-10-15 12:45:00       4.210000   \n",
       "max     19152.000000            2010-12-09 20:01:00   25111.090000   \n",
       "std       107.424110                            NaN     146.126914   \n",
       "\n",
       "         Customer ID  \n",
       "count  417534.000000  \n",
       "mean    15360.645478  \n",
       "min     12346.000000  \n",
       "25%     13983.000000  \n",
       "50%     15311.000000  \n",
       "75%     16799.000000  \n",
       "max     18287.000000  \n",
       "std      1680.811316  "
      ]
     },
     "execution_count": 39,
     "metadata": {},
     "output_type": "execute_result"
    }
   ],
   "source": [
    "df.describe()"
   ]
  },
  {
   "cell_type": "markdown",
   "metadata": {
    "id": "QpjgQN8fOthN"
   },
   "source": [
    "The dataset seems to have some missing values, lets handle those first."
   ]
  },
  {
   "cell_type": "code",
   "execution_count": 40,
   "metadata": {
    "colab": {
     "base_uri": "https://localhost:8080/",
     "height": 335
    },
    "executionInfo": {
     "elapsed": 51,
     "status": "ok",
     "timestamp": 1741999234383,
     "user": {
      "displayName": "Daniel Iversen",
      "userId": "04843677771367093898"
     },
     "user_tz": -60
    },
    "id": "xdfNw7HAOue6",
    "outputId": "9dd91b9f-fcde-439c-caf4-59fa894abed3"
   },
   "outputs": [
    {
     "data": {
      "text/plain": [
       "Invoice             0\n",
       "StockCode           0\n",
       "Description      2928\n",
       "Quantity            0\n",
       "InvoiceDate         0\n",
       "Price               0\n",
       "Customer ID    107927\n",
       "Country             0\n",
       "dtype: int64"
      ]
     },
     "execution_count": 40,
     "metadata": {},
     "output_type": "execute_result"
    }
   ],
   "source": [
    "# Sum of missing values\n",
    "df.isnull().sum()"
   ]
  },
  {
   "cell_type": "code",
   "execution_count": 41,
   "metadata": {
    "colab": {
     "base_uri": "https://localhost:8080/",
     "height": 335
    },
    "executionInfo": {
     "elapsed": 1614,
     "status": "ok",
     "timestamp": 1741999235998,
     "user": {
      "displayName": "Daniel Iversen",
      "userId": "04843677771367093898"
     },
     "user_tz": -60
    },
    "id": "1CVEW8YnOu-1",
    "outputId": "3bb9e58c-382e-4ea4-8d6e-116ef2cc1f42"
   },
   "outputs": [
    {
     "data": {
      "text/plain": [
       "Invoice        0\n",
       "StockCode      0\n",
       "Description    0\n",
       "Quantity       0\n",
       "InvoiceDate    0\n",
       "Price          0\n",
       "Customer ID    0\n",
       "Country        0\n",
       "dtype: int64"
      ]
     },
     "execution_count": 41,
     "metadata": {},
     "output_type": "execute_result"
    }
   ],
   "source": [
    "# Fill missing 'Description' using the most common value per 'StockCode'\n",
    "df['Description'] = df.groupby('StockCode')['Description'].transform(lambda x: x.fillna(x.mode()[0]) if not x.mode().empty else x)\n",
    "# Drop rows where 'Customer ID' is missing\n",
    "df = df.dropna(subset=['Customer ID'])\n",
    "# There should be 0 missing values now\n",
    "df.isnull().sum()"
   ]
  },
  {
   "cell_type": "code",
   "execution_count": 42,
   "metadata": {
    "colab": {
     "base_uri": "https://localhost:8080/"
    },
    "executionInfo": {
     "elapsed": 106,
     "status": "ok",
     "timestamp": 1741999236103,
     "user": {
      "displayName": "Daniel Iversen",
      "userId": "04843677771367093898"
     },
     "user_tz": -60
    },
    "id": "lNlBmVGDOxMq",
    "outputId": "8dc8035b-06c1-4574-a08e-fe127283b3c2"
   },
   "outputs": [
    {
     "data": {
      "text/plain": [
       "np.int64(6771)"
      ]
     },
     "execution_count": 42,
     "metadata": {},
     "output_type": "execute_result"
    }
   ],
   "source": [
    "# Check\n",
    "df.duplicated().sum()"
   ]
  },
  {
   "cell_type": "code",
   "execution_count": 43,
   "metadata": {
    "colab": {
     "base_uri": "https://localhost:8080/"
    },
    "executionInfo": {
     "elapsed": 271,
     "status": "ok",
     "timestamp": 1741999236423,
     "user": {
      "displayName": "Daniel Iversen",
      "userId": "04843677771367093898"
     },
     "user_tz": -60
    },
    "id": "3ljjyuQROxHr",
    "outputId": "82bfae57-e7d2-4848-da39-a08049573ffc"
   },
   "outputs": [
    {
     "data": {
      "text/plain": [
       "np.int64(0)"
      ]
     },
     "execution_count": 43,
     "metadata": {},
     "output_type": "execute_result"
    }
   ],
   "source": [
    "# Drop them\n",
    "df.drop_duplicates(inplace=True)\n",
    "df.duplicated().sum()"
   ]
  },
  {
   "cell_type": "markdown",
   "metadata": {
    "id": "v-THb72iOzCE"
   },
   "source": [
    "### Renaming Invoice to InvoiceNumber to avoid confusion"
   ]
  },
  {
   "cell_type": "code",
   "execution_count": 44,
   "metadata": {
    "executionInfo": {
     "elapsed": 3,
     "status": "ok",
     "timestamp": 1741999236426,
     "user": {
      "displayName": "Daniel Iversen",
      "userId": "04843677771367093898"
     },
     "user_tz": -60
    },
    "id": "1i1HIMCGO0pL"
   },
   "outputs": [],
   "source": [
    "df.rename(columns={'Invoice': 'InvoiceNumber'}, inplace=True)"
   ]
  },
  {
   "cell_type": "markdown",
   "metadata": {
    "id": "1Yjl6OcrO1vL"
   },
   "source": [
    "---"
   ]
  },
  {
   "cell_type": "markdown",
   "metadata": {
    "id": "S5NtZuJXO2jG"
   },
   "source": [
    "### Visualization and Exploration looking at general sales trends\n",
    "\n",
    "Getting an idea of what is possible to analyze using this data."
   ]
  },
  {
   "cell_type": "markdown",
   "metadata": {
    "id": "R0iSVdzLO3xQ"
   },
   "source": [
    "**a. Transactions over time, are sales improving or declining?**"
   ]
  },
  {
   "cell_type": "code",
   "execution_count": 45,
   "metadata": {
    "colab": {
     "base_uri": "https://localhost:8080/",
     "height": 564
    },
    "executionInfo": {
     "elapsed": 738,
     "status": "ok",
     "timestamp": 1741999237167,
     "user": {
      "displayName": "Daniel Iversen",
      "userId": "04843677771367093898"
     },
     "user_tz": -60
    },
    "id": "L1Lkw4uOO4vm",
    "outputId": "c6eed28e-e394-4ade-98ff-0e3c81aa3cee"
   },
   "outputs": [
    {
     "data": {
      "image/png": "[encoded data removed]",
      "text/plain": [
       "<Figure size 1200x600 with 1 Axes>"
      ]
     },
     "metadata": {},
     "output_type": "display_data"
    }
   ],
   "source": [
    "# Formatting date features for plotting\n",
    "# Convert from string to type:datetime\n",
    "df['InvoiceDate'] = pd.to_datetime(df['InvoiceDate'])\n",
    "# Create new 'Date' feature, removing the timestamp\n",
    "# Making it possilbe to group sales from the same data togther\n",
    "df['Date'] = df['InvoiceDate'].dt.date\n",
    "# Group by new 'Date' column and display count of transactions pr date\n",
    "daily_sales = df.groupby('Date').size()\n",
    "# Plot\n",
    "plt.figure(figsize=(12, 6))\n",
    "daily_sales.plot()\n",
    "plt.title(\"Number of Transactions Over Time\")\n",
    "plt.xlabel(\"Date\")\n",
    "plt.ylabel(\"Number of Transactions\")\n",
    "plt.show()"
   ]
  },
  {
   "cell_type": "markdown",
   "metadata": {
    "id": "DESc1K3YO6_z"
   },
   "source": [
    "**b. Looking at top selling products**\n",
    "\n",
    "- Which products can be promoted for campaigns.\n",
    "- Which products are candidates for a association rule mining analysis."
   ]
  },
  {
   "cell_type": "code",
   "execution_count": 46,
   "metadata": {
    "colab": {
     "base_uri": "https://localhost:8080/",
     "height": 765
    },
    "executionInfo": {
     "elapsed": 131,
     "status": "ok",
     "timestamp": 1741999237299,
     "user": {
      "displayName": "Daniel Iversen",
      "userId": "04843677771367093898"
     },
     "user_tz": -60
    },
    "id": "sdeC0Q4JO75Y",
    "outputId": "b2ebf6bd-7a00-4b4e-c368-faf55309b566"
   },
   "outputs": [
    {
     "data": {
      "image/png": "[encoded data removed]",
      "text/plain": [
       "<Figure size 1200x600 with 1 Axes>"
      ]
     },
     "metadata": {},
     "output_type": "display_data"
    }
   ],
   "source": [
    "# Group products by their name before plotting\n",
    "# Count total sum of each product, show 10 highest and sort descending\n",
    "top_products = df.groupby(\"Description\")[\"Quantity\"].sum().nlargest(10)\n",
    "# Plot\n",
    "plt.figure(figsize=(12, 6))\n",
    "top_products.plot(kind=\"bar\")\n",
    "plt.title(\"Top 10 Best Selling Products\")\n",
    "plt.xlabel(\"Product Description\")\n",
    "plt.ylabel(\"Total Quantity Sold\")\n",
    "plt.xticks(rotation=45) # Rotate display names for readability\n",
    "plt.show()"
   ]
  },
  {
   "cell_type": "markdown",
   "metadata": {
    "id": "fb21_cvWO9eo"
   },
   "source": [
    "**c. Countries giving the most business**\n",
    "\n",
    "- Perhaps it's not worth to focus campaign efforts against countires that aren't good customers."
   ]
  },
  {
   "cell_type": "code",
   "execution_count": 47,
   "metadata": {
    "colab": {
     "base_uri": "https://localhost:8080/",
     "height": 639
    },
    "executionInfo": {
     "elapsed": 57,
     "status": "ok",
     "timestamp": 1741999237357,
     "user": {
      "displayName": "Daniel Iversen",
      "userId": "04843677771367093898"
     },
     "user_tz": -60
    },
    "id": "D5yxZTTeO-j2",
    "outputId": "b1a050eb-f9e3-4642-cecb-d7054f8c782e"
   },
   "outputs": [
    {
     "data": {
      "image/png": "[encoded data removed]",
      "text/plain": [
       "<Figure size 1200x600 with 1 Axes>"
      ]
     },
     "metadata": {},
     "output_type": "display_data"
    }
   ],
   "source": [
    "plt.figure(figsize=(12, 6))\n",
    "# Plot top 10 from output of value_counts\n",
    "df['Country'].value_counts().head(10).plot(kind='bar')\n",
    "plt.title(\"Top 10 Countries by Number of Transactions\")\n",
    "plt.xlabel(\"Country\")\n",
    "plt.ylabel(\"Number of Transactions\")\n",
    "plt.xticks(rotation=45) # Rotate display names again\n",
    "plt.show()"
   ]
  },
  {
   "cell_type": "markdown",
   "metadata": {
    "id": "Iu7fyyH3PAW8"
   },
   "source": [
    "---"
   ]
  },
  {
   "cell_type": "markdown",
   "metadata": {
    "id": "MQ4ZgDopPBFf"
   },
   "source": [
    "### Feature engineering\n",
    "\n",
    "Create new features from existing ones, allowing for more precise analysis and use of additional parameters."
   ]
  },
  {
   "cell_type": "markdown",
   "metadata": {
    "id": "A7bw45TVPCBD"
   },
   "source": [
    "Attempting to create the following features:\n",
    "* **Revenue:** revenue pr item\n",
    "* **DayOfWeek:** to analyze sales trends by weekdays.\n",
    "* **TotalRevenue:** for each CustomerID\n",
    "* **MostPopularProduct:** based on 'Reveune'.\n",
    "* **Ordersize:** by summing Quantity for each InvoiceNo"
   ]
  },
  {
   "cell_type": "code",
   "execution_count": 48,
   "metadata": {
    "colab": {
     "base_uri": "https://localhost:8080/",
     "height": 206
    },
    "executionInfo": {
     "elapsed": 12,
     "status": "ok",
     "timestamp": 1741999237369,
     "user": {
      "displayName": "Daniel Iversen",
      "userId": "04843677771367093898"
     },
     "user_tz": -60
    },
    "id": "b2eGWJyRPDea",
    "outputId": "a50c41d3-d46f-4a11-ac82-4953a7ae0cb2"
   },
   "outputs": [
    {
     "data": {
      "text/html": [
       "<div>\n",
       "<style scoped>\n",
       "    .dataframe tbody tr th:only-of-type {\n",
       "        vertical-align: middle;\n",
       "    }\n",
       "\n",
       "    .dataframe tbody tr th {\n",
       "        vertical-align: top;\n",
       "    }\n",
       "\n",
       "    .dataframe thead th {\n",
       "        text-align: right;\n",
       "    }\n",
       "</style>\n",
       "<table border=\"1\" class=\"dataframe\">\n",
       "  <thead>\n",
       "    <tr style=\"text-align: right;\">\n",
       "      <th></th>\n",
       "      <th>InvoiceNumber</th>\n",
       "      <th>StockCode</th>\n",
       "      <th>Description</th>\n",
       "      <th>Quantity</th>\n",
       "      <th>InvoiceDate</th>\n",
       "      <th>Price</th>\n",
       "      <th>Customer ID</th>\n",
       "      <th>Country</th>\n",
       "      <th>Date</th>\n",
       "      <th>Revenue</th>\n",
       "    </tr>\n",
       "  </thead>\n",
       "  <tbody>\n",
       "    <tr>\n",
       "      <th>285549</th>\n",
       "      <td>517132</td>\n",
       "      <td>22149</td>\n",
       "      <td>FELTCRAFT 6 FLOWER FRIENDS</td>\n",
       "      <td>12</td>\n",
       "      <td>2010-07-27 10:21:00</td>\n",
       "      <td>2.10</td>\n",
       "      <td>13115.0</td>\n",
       "      <td>United Kingdom</td>\n",
       "      <td>2010-07-27</td>\n",
       "      <td>25.20</td>\n",
       "    </tr>\n",
       "    <tr>\n",
       "      <th>471652</th>\n",
       "      <td>533816</td>\n",
       "      <td>22906</td>\n",
       "      <td>12 MESSAGE CARDS WITH ENVELOPES</td>\n",
       "      <td>12</td>\n",
       "      <td>2010-11-19 09:16:00</td>\n",
       "      <td>1.65</td>\n",
       "      <td>14932.0</td>\n",
       "      <td>Channel Islands</td>\n",
       "      <td>2010-11-19</td>\n",
       "      <td>19.80</td>\n",
       "    </tr>\n",
       "    <tr>\n",
       "      <th>326841</th>\n",
       "      <td>521312</td>\n",
       "      <td>20712</td>\n",
       "      <td>JUMBO BAG WOODLAND ANIMALS</td>\n",
       "      <td>100</td>\n",
       "      <td>2010-09-03 11:54:00</td>\n",
       "      <td>1.95</td>\n",
       "      <td>12939.0</td>\n",
       "      <td>United Kingdom</td>\n",
       "      <td>2010-09-03</td>\n",
       "      <td>195.00</td>\n",
       "    </tr>\n",
       "    <tr>\n",
       "      <th>494301</th>\n",
       "      <td>535661</td>\n",
       "      <td>21790</td>\n",
       "      <td>VINTAGE SNAP CARDS</td>\n",
       "      <td>1</td>\n",
       "      <td>2010-11-28 11:33:00</td>\n",
       "      <td>0.85</td>\n",
       "      <td>13069.0</td>\n",
       "      <td>United Kingdom</td>\n",
       "      <td>2010-11-28</td>\n",
       "      <td>0.85</td>\n",
       "    </tr>\n",
       "    <tr>\n",
       "      <th>166002</th>\n",
       "      <td>505068</td>\n",
       "      <td>21933</td>\n",
       "      <td>PINK VINTAGE PAISLEY PICNIC BAG</td>\n",
       "      <td>6</td>\n",
       "      <td>2010-04-19 16:50:00</td>\n",
       "      <td>2.55</td>\n",
       "      <td>17850.0</td>\n",
       "      <td>United Kingdom</td>\n",
       "      <td>2010-04-19</td>\n",
       "      <td>15.30</td>\n",
       "    </tr>\n",
       "  </tbody>\n",
       "</table>\n",
       "</div>"
      ],
      "text/plain": [
       "       InvoiceNumber StockCode                      Description  Quantity  \\\n",
       "285549        517132     22149       FELTCRAFT 6 FLOWER FRIENDS        12   \n",
       "471652        533816     22906  12 MESSAGE CARDS WITH ENVELOPES        12   \n",
       "326841        521312     20712       JUMBO BAG WOODLAND ANIMALS       100   \n",
       "494301        535661     21790               VINTAGE SNAP CARDS         1   \n",
       "166002        505068     21933  PINK VINTAGE PAISLEY PICNIC BAG         6   \n",
       "\n",
       "               InvoiceDate  Price  Customer ID          Country        Date  \\\n",
       "285549 2010-07-27 10:21:00   2.10      13115.0   United Kingdom  2010-07-27   \n",
       "471652 2010-11-19 09:16:00   1.65      14932.0  Channel Islands  2010-11-19   \n",
       "326841 2010-09-03 11:54:00   1.95      12939.0   United Kingdom  2010-09-03   \n",
       "494301 2010-11-28 11:33:00   0.85      13069.0   United Kingdom  2010-11-28   \n",
       "166002 2010-04-19 16:50:00   2.55      17850.0   United Kingdom  2010-04-19   \n",
       "\n",
       "        Revenue  \n",
       "285549    25.20  \n",
       "471652    19.80  \n",
       "326841   195.00  \n",
       "494301     0.85  \n",
       "166002    15.30  "
      ]
     },
     "execution_count": 48,
     "metadata": {},
     "output_type": "execute_result"
    }
   ],
   "source": [
    "# 'Revenue' feature\n",
    "df['Revenue'] = df['Quantity'] * df['Price']\n",
    "# Check if it looks correct\n",
    "df.sample(5)"
   ]
  },
  {
   "cell_type": "code",
   "execution_count": 49,
   "metadata": {
    "colab": {
     "base_uri": "https://localhost:8080/",
     "height": 310
    },
    "executionInfo": {
     "elapsed": 108,
     "status": "ok",
     "timestamp": 1741999399068,
     "user": {
      "displayName": "Daniel Iversen",
      "userId": "04843677771367093898"
     },
     "user_tz": -60
    },
    "id": "85uvCymgP-kI",
    "outputId": "c64aad92-796d-4999-ced8-6447370c239f"
   },
   "outputs": [
    {
     "data": {
      "text/html": [
       "<div>\n",
       "<style scoped>\n",
       "    .dataframe tbody tr th:only-of-type {\n",
       "        vertical-align: middle;\n",
       "    }\n",
       "\n",
       "    .dataframe tbody tr th {\n",
       "        vertical-align: top;\n",
       "    }\n",
       "\n",
       "    .dataframe thead th {\n",
       "        text-align: right;\n",
       "    }\n",
       "</style>\n",
       "<table border=\"1\" class=\"dataframe\">\n",
       "  <thead>\n",
       "    <tr style=\"text-align: right;\">\n",
       "      <th></th>\n",
       "      <th>InvoiceNumber</th>\n",
       "      <th>StockCode</th>\n",
       "      <th>Description</th>\n",
       "      <th>Quantity</th>\n",
       "      <th>InvoiceDate</th>\n",
       "      <th>Price</th>\n",
       "      <th>Customer ID</th>\n",
       "      <th>Country</th>\n",
       "      <th>Date</th>\n",
       "      <th>Revenue</th>\n",
       "      <th>DayOfWeek</th>\n",
       "    </tr>\n",
       "  </thead>\n",
       "  <tbody>\n",
       "    <tr>\n",
       "      <th>450802</th>\n",
       "      <td>532252</td>\n",
       "      <td>22968</td>\n",
       "      <td>ROSE COTTAGE KEEPSAKE BOX</td>\n",
       "      <td>2</td>\n",
       "      <td>2010-11-11 12:45:00</td>\n",
       "      <td>9.95</td>\n",
       "      <td>17416.0</td>\n",
       "      <td>United Kingdom</td>\n",
       "      <td>2010-11-11</td>\n",
       "      <td>19.90</td>\n",
       "      <td>Thursday</td>\n",
       "    </tr>\n",
       "    <tr>\n",
       "      <th>374341</th>\n",
       "      <td>525484</td>\n",
       "      <td>21730</td>\n",
       "      <td>GLASS STAR FROSTED T-LIGHT HOLDER</td>\n",
       "      <td>3</td>\n",
       "      <td>2010-10-05 15:52:00</td>\n",
       "      <td>4.95</td>\n",
       "      <td>14350.0</td>\n",
       "      <td>United Kingdom</td>\n",
       "      <td>2010-10-05</td>\n",
       "      <td>14.85</td>\n",
       "      <td>Tuesday</td>\n",
       "    </tr>\n",
       "    <tr>\n",
       "      <th>446921</th>\n",
       "      <td>531922</td>\n",
       "      <td>90214E</td>\n",
       "      <td>LETTER \"E\" BLING KEY RING</td>\n",
       "      <td>1</td>\n",
       "      <td>2010-11-10 12:09:00</td>\n",
       "      <td>1.25</td>\n",
       "      <td>17974.0</td>\n",
       "      <td>United Kingdom</td>\n",
       "      <td>2010-11-10</td>\n",
       "      <td>1.25</td>\n",
       "      <td>Wednesday</td>\n",
       "    </tr>\n",
       "    <tr>\n",
       "      <th>344938</th>\n",
       "      <td>522986</td>\n",
       "      <td>21231</td>\n",
       "      <td>SWEETHEART CERAMIC TRINKET BOX</td>\n",
       "      <td>24</td>\n",
       "      <td>2010-09-19 14:45:00</td>\n",
       "      <td>1.25</td>\n",
       "      <td>13883.0</td>\n",
       "      <td>United Kingdom</td>\n",
       "      <td>2010-09-19</td>\n",
       "      <td>30.00</td>\n",
       "      <td>Sunday</td>\n",
       "    </tr>\n",
       "    <tr>\n",
       "      <th>199764</th>\n",
       "      <td>508529</td>\n",
       "      <td>21715</td>\n",
       "      <td>GIRLS VINTAGE TIN SEASIDE BUCKET</td>\n",
       "      <td>224</td>\n",
       "      <td>2010-05-17 11:12:00</td>\n",
       "      <td>1.74</td>\n",
       "      <td>18102.0</td>\n",
       "      <td>United Kingdom</td>\n",
       "      <td>2010-05-17</td>\n",
       "      <td>389.76</td>\n",
       "      <td>Monday</td>\n",
       "    </tr>\n",
       "  </tbody>\n",
       "</table>\n",
       "</div>"
      ],
      "text/plain": [
       "       InvoiceNumber StockCode                        Description  Quantity  \\\n",
       "450802        532252     22968         ROSE COTTAGE KEEPSAKE BOX          2   \n",
       "374341        525484     21730  GLASS STAR FROSTED T-LIGHT HOLDER         3   \n",
       "446921        531922    90214E          LETTER \"E\" BLING KEY RING         1   \n",
       "344938        522986     21231     SWEETHEART CERAMIC TRINKET BOX        24   \n",
       "199764        508529     21715   GIRLS VINTAGE TIN SEASIDE BUCKET       224   \n",
       "\n",
       "               InvoiceDate  Price  Customer ID         Country        Date  \\\n",
       "450802 2010-11-11 12:45:00   9.95      17416.0  United Kingdom  2010-11-11   \n",
       "374341 2010-10-05 15:52:00   4.95      14350.0  United Kingdom  2010-10-05   \n",
       "446921 2010-11-10 12:09:00   1.25      17974.0  United Kingdom  2010-11-10   \n",
       "344938 2010-09-19 14:45:00   1.25      13883.0  United Kingdom  2010-09-19   \n",
       "199764 2010-05-17 11:12:00   1.74      18102.0  United Kingdom  2010-05-17   \n",
       "\n",
       "        Revenue  DayOfWeek  \n",
       "450802    19.90   Thursday  \n",
       "374341    14.85    Tuesday  \n",
       "446921     1.25  Wednesday  \n",
       "344938    30.00     Sunday  \n",
       "199764   389.76     Monday  "
      ]
     },
     "execution_count": 49,
     "metadata": {},
     "output_type": "execute_result"
    }
   ],
   "source": [
    "# 'DayOfWeek' feature egnineering\n",
    "df[\"DayOfWeek\"] = df[\"InvoiceDate\"].dt.day_name()\n",
    "# Check if it looks correct:\n",
    "df.sample(5)"
   ]
  },
  {
   "cell_type": "code",
   "execution_count": 50,
   "metadata": {
    "colab": {
     "base_uri": "https://localhost:8080/",
     "height": 310
    },
    "executionInfo": {
     "elapsed": 52,
     "status": "ok",
     "timestamp": 1741999490103,
     "user": {
      "displayName": "Daniel Iversen",
      "userId": "04843677771367093898"
     },
     "user_tz": -60
    },
    "id": "RmqwPuyNQGOw",
    "outputId": "b7ff3fb1-a09d-421d-8e5f-4e4ac6c2551c"
   },
   "outputs": [
    {
     "data": {
      "text/html": [
       "<div>\n",
       "<style scoped>\n",
       "    .dataframe tbody tr th:only-of-type {\n",
       "        vertical-align: middle;\n",
       "    }\n",
       "\n",
       "    .dataframe tbody tr th {\n",
       "        vertical-align: top;\n",
       "    }\n",
       "\n",
       "    .dataframe thead th {\n",
       "        text-align: right;\n",
       "    }\n",
       "</style>\n",
       "<table border=\"1\" class=\"dataframe\">\n",
       "  <thead>\n",
       "    <tr style=\"text-align: right;\">\n",
       "      <th></th>\n",
       "      <th>InvoiceNumber</th>\n",
       "      <th>StockCode</th>\n",
       "      <th>Description</th>\n",
       "      <th>Quantity</th>\n",
       "      <th>InvoiceDate</th>\n",
       "      <th>Price</th>\n",
       "      <th>Customer ID</th>\n",
       "      <th>Country</th>\n",
       "      <th>Date</th>\n",
       "      <th>Revenue</th>\n",
       "      <th>DayOfWeek</th>\n",
       "      <th>TotalRevenue</th>\n",
       "    </tr>\n",
       "  </thead>\n",
       "  <tbody>\n",
       "    <tr>\n",
       "      <th>427746</th>\n",
       "      <td>530288</td>\n",
       "      <td>22508</td>\n",
       "      <td>DOORSTOP RETROSPOT HEART</td>\n",
       "      <td>2</td>\n",
       "      <td>2010-11-02 12:16:00</td>\n",
       "      <td>3.75</td>\n",
       "      <td>14593.0</td>\n",
       "      <td>United Kingdom</td>\n",
       "      <td>2010-11-02</td>\n",
       "      <td>7.50</td>\n",
       "      <td>Tuesday</td>\n",
       "      <td>2951.54</td>\n",
       "    </tr>\n",
       "    <tr>\n",
       "      <th>295513</th>\n",
       "      <td>518157</td>\n",
       "      <td>82597</td>\n",
       "      <td>BOMBS AWAY METAL SIGN</td>\n",
       "      <td>48</td>\n",
       "      <td>2010-08-05 09:35:00</td>\n",
       "      <td>1.69</td>\n",
       "      <td>13798.0</td>\n",
       "      <td>United Kingdom</td>\n",
       "      <td>2010-08-05</td>\n",
       "      <td>81.12</td>\n",
       "      <td>Thursday</td>\n",
       "      <td>37222.05</td>\n",
       "    </tr>\n",
       "    <tr>\n",
       "      <th>252700</th>\n",
       "      <td>513763</td>\n",
       "      <td>22442</td>\n",
       "      <td>GROW YOUR OWN FLOWERS SET OF 3</td>\n",
       "      <td>2</td>\n",
       "      <td>2010-06-28 13:06:00</td>\n",
       "      <td>7.95</td>\n",
       "      <td>12784.0</td>\n",
       "      <td>Portugal</td>\n",
       "      <td>2010-06-28</td>\n",
       "      <td>15.90</td>\n",
       "      <td>Monday</td>\n",
       "      <td>1230.33</td>\n",
       "    </tr>\n",
       "    <tr>\n",
       "      <th>449266</th>\n",
       "      <td>532106</td>\n",
       "      <td>22602</td>\n",
       "      <td>CHRISTMAS RETROSPOT HEART WOOD</td>\n",
       "      <td>12</td>\n",
       "      <td>2010-11-10 16:26:00</td>\n",
       "      <td>0.85</td>\n",
       "      <td>16094.0</td>\n",
       "      <td>United Kingdom</td>\n",
       "      <td>2010-11-10</td>\n",
       "      <td>10.20</td>\n",
       "      <td>Wednesday</td>\n",
       "      <td>2557.33</td>\n",
       "    </tr>\n",
       "    <tr>\n",
       "      <th>236402</th>\n",
       "      <td>512286</td>\n",
       "      <td>84836</td>\n",
       "      <td>ZINC METAL HEART DECORATION</td>\n",
       "      <td>2</td>\n",
       "      <td>2010-06-14 14:27:00</td>\n",
       "      <td>1.25</td>\n",
       "      <td>15967.0</td>\n",
       "      <td>United Kingdom</td>\n",
       "      <td>2010-06-14</td>\n",
       "      <td>2.50</td>\n",
       "      <td>Monday</td>\n",
       "      <td>2545.92</td>\n",
       "    </tr>\n",
       "  </tbody>\n",
       "</table>\n",
       "</div>"
      ],
      "text/plain": [
       "       InvoiceNumber StockCode                     Description  Quantity  \\\n",
       "427746        530288     22508        DOORSTOP RETROSPOT HEART         2   \n",
       "295513        518157     82597           BOMBS AWAY METAL SIGN        48   \n",
       "252700        513763     22442  GROW YOUR OWN FLOWERS SET OF 3         2   \n",
       "449266        532106     22602  CHRISTMAS RETROSPOT HEART WOOD        12   \n",
       "236402        512286     84836     ZINC METAL HEART DECORATION         2   \n",
       "\n",
       "               InvoiceDate  Price  Customer ID         Country        Date  \\\n",
       "427746 2010-11-02 12:16:00   3.75      14593.0  United Kingdom  2010-11-02   \n",
       "295513 2010-08-05 09:35:00   1.69      13798.0  United Kingdom  2010-08-05   \n",
       "252700 2010-06-28 13:06:00   7.95      12784.0        Portugal  2010-06-28   \n",
       "449266 2010-11-10 16:26:00   0.85      16094.0  United Kingdom  2010-11-10   \n",
       "236402 2010-06-14 14:27:00   1.25      15967.0  United Kingdom  2010-06-14   \n",
       "\n",
       "        Revenue  DayOfWeek  TotalRevenue  \n",
       "427746     7.50    Tuesday       2951.54  \n",
       "295513    81.12   Thursday      37222.05  \n",
       "252700    15.90     Monday       1230.33  \n",
       "449266    10.20  Wednesday       2557.33  \n",
       "236402     2.50     Monday       2545.92  "
      ]
     },
     "execution_count": 50,
     "metadata": {},
     "output_type": "execute_result"
    }
   ],
   "source": [
    "# 'TotalRevenue' feature egnineering\n",
    "df[\"TotalRevenue\"] = df.groupby(\"Customer ID\")[\"Revenue\"].transform(\"sum\")\n",
    "# Check if it looks correct:\n",
    "df.sample(5)"
   ]
  },
  {
   "cell_type": "code",
   "execution_count": 51,
   "metadata": {
    "colab": {
     "base_uri": "https://localhost:8080/",
     "height": 35
    },
    "executionInfo": {
     "elapsed": 22,
     "status": "ok",
     "timestamp": 1741999542833,
     "user": {
      "displayName": "Daniel Iversen",
      "userId": "04843677771367093898"
     },
     "user_tz": -60
    },
    "id": "wm-FF_hcQGlT",
    "outputId": "b5eac258-0d80-4d02-b134-064986834b30"
   },
   "outputs": [
    {
     "data": {
      "text/plain": [
       "'85123A'"
      ]
     },
     "execution_count": 51,
     "metadata": {},
     "output_type": "execute_result"
    }
   ],
   "source": [
    "# 'MostPopularProduct' feature egnineering\n",
    "most_popular_product = df.groupby(\"StockCode\")[\"Revenue\"].sum().idxmax()\n",
    "# Check if it looks correct:\n",
    "most_popular_product"
   ]
  },
  {
   "cell_type": "code",
   "execution_count": 52,
   "metadata": {
    "colab": {
     "base_uri": "https://localhost:8080/",
     "height": 310
    },
    "executionInfo": {
     "elapsed": 47,
     "status": "ok",
     "timestamp": 1741999585995,
     "user": {
      "displayName": "Daniel Iversen",
      "userId": "04843677771367093898"
     },
     "user_tz": -60
    },
    "id": "IotZvlheQG0Q",
    "outputId": "b525dca6-fd41-435e-c550-e78aeffd660b"
   },
   "outputs": [
    {
     "data": {
      "text/html": [
       "<div>\n",
       "<style scoped>\n",
       "    .dataframe tbody tr th:only-of-type {\n",
       "        vertical-align: middle;\n",
       "    }\n",
       "\n",
       "    .dataframe tbody tr th {\n",
       "        vertical-align: top;\n",
       "    }\n",
       "\n",
       "    .dataframe thead th {\n",
       "        text-align: right;\n",
       "    }\n",
       "</style>\n",
       "<table border=\"1\" class=\"dataframe\">\n",
       "  <thead>\n",
       "    <tr style=\"text-align: right;\">\n",
       "      <th></th>\n",
       "      <th>InvoiceNumber</th>\n",
       "      <th>StockCode</th>\n",
       "      <th>Description</th>\n",
       "      <th>Quantity</th>\n",
       "      <th>InvoiceDate</th>\n",
       "      <th>Price</th>\n",
       "      <th>Customer ID</th>\n",
       "      <th>Country</th>\n",
       "      <th>Date</th>\n",
       "      <th>Revenue</th>\n",
       "      <th>DayOfWeek</th>\n",
       "      <th>TotalRevenue</th>\n",
       "      <th>OrderSize</th>\n",
       "    </tr>\n",
       "  </thead>\n",
       "  <tbody>\n",
       "    <tr>\n",
       "      <th>76734</th>\n",
       "      <td>496343</td>\n",
       "      <td>21986</td>\n",
       "      <td>PACK OF 12 PINK SPOT TISSUES</td>\n",
       "      <td>48</td>\n",
       "      <td>2010-01-31 15:51:00</td>\n",
       "      <td>0.29</td>\n",
       "      <td>13478.0</td>\n",
       "      <td>United Kingdom</td>\n",
       "      <td>2010-01-31</td>\n",
       "      <td>13.92</td>\n",
       "      <td>Sunday</td>\n",
       "      <td>2068.03</td>\n",
       "      <td>277</td>\n",
       "    </tr>\n",
       "    <tr>\n",
       "      <th>101062</th>\n",
       "      <td>498931</td>\n",
       "      <td>22148</td>\n",
       "      <td>EASTER CRAFT 4 CHICKS</td>\n",
       "      <td>80</td>\n",
       "      <td>2010-02-24 10:24:00</td>\n",
       "      <td>1.65</td>\n",
       "      <td>12482.0</td>\n",
       "      <td>Sweden</td>\n",
       "      <td>2010-02-24</td>\n",
       "      <td>132.00</td>\n",
       "      <td>Wednesday</td>\n",
       "      <td>21893.53</td>\n",
       "      <td>2224</td>\n",
       "    </tr>\n",
       "    <tr>\n",
       "      <th>297779</th>\n",
       "      <td>518394</td>\n",
       "      <td>21942</td>\n",
       "      <td>SKULLS DESIGN FLANNEL</td>\n",
       "      <td>2</td>\n",
       "      <td>2010-08-08 12:35:00</td>\n",
       "      <td>0.85</td>\n",
       "      <td>14606.0</td>\n",
       "      <td>United Kingdom</td>\n",
       "      <td>2010-08-08</td>\n",
       "      <td>1.70</td>\n",
       "      <td>Sunday</td>\n",
       "      <td>18158.22</td>\n",
       "      <td>90</td>\n",
       "    </tr>\n",
       "    <tr>\n",
       "      <th>297843</th>\n",
       "      <td>518397</td>\n",
       "      <td>21888</td>\n",
       "      <td>BINGO SET</td>\n",
       "      <td>3</td>\n",
       "      <td>2010-08-08 12:43:00</td>\n",
       "      <td>3.75</td>\n",
       "      <td>16444.0</td>\n",
       "      <td>United Kingdom</td>\n",
       "      <td>2010-08-08</td>\n",
       "      <td>11.25</td>\n",
       "      <td>Sunday</td>\n",
       "      <td>2912.91</td>\n",
       "      <td>169</td>\n",
       "    </tr>\n",
       "    <tr>\n",
       "      <th>340721</th>\n",
       "      <td>522622</td>\n",
       "      <td>21385</td>\n",
       "      <td>IVORY HANGING DECORATION  HEART</td>\n",
       "      <td>24</td>\n",
       "      <td>2010-09-15 15:32:00</td>\n",
       "      <td>0.85</td>\n",
       "      <td>17589.0</td>\n",
       "      <td>United Kingdom</td>\n",
       "      <td>2010-09-15</td>\n",
       "      <td>20.40</td>\n",
       "      <td>Wednesday</td>\n",
       "      <td>11288.72</td>\n",
       "      <td>933</td>\n",
       "    </tr>\n",
       "  </tbody>\n",
       "</table>\n",
       "</div>"
      ],
      "text/plain": [
       "       InvoiceNumber StockCode                      Description  Quantity  \\\n",
       "76734         496343     21986    PACK OF 12 PINK SPOT TISSUES         48   \n",
       "101062        498931     22148           EASTER CRAFT 4 CHICKS         80   \n",
       "297779        518394     21942            SKULLS DESIGN FLANNEL         2   \n",
       "297843        518397     21888                        BINGO SET         3   \n",
       "340721        522622     21385  IVORY HANGING DECORATION  HEART        24   \n",
       "\n",
       "               InvoiceDate  Price  Customer ID         Country        Date  \\\n",
       "76734  2010-01-31 15:51:00   0.29      13478.0  United Kingdom  2010-01-31   \n",
       "101062 2010-02-24 10:24:00   1.65      12482.0          Sweden  2010-02-24   \n",
       "297779 2010-08-08 12:35:00   0.85      14606.0  United Kingdom  2010-08-08   \n",
       "297843 2010-08-08 12:43:00   3.75      16444.0  United Kingdom  2010-08-08   \n",
       "340721 2010-09-15 15:32:00   0.85      17589.0  United Kingdom  2010-09-15   \n",
       "\n",
       "        Revenue  DayOfWeek  TotalRevenue  OrderSize  \n",
       "76734     13.92     Sunday       2068.03        277  \n",
       "101062   132.00  Wednesday      21893.53       2224  \n",
       "297779     1.70     Sunday      18158.22         90  \n",
       "297843    11.25     Sunday       2912.91        169  \n",
       "340721    20.40  Wednesday      11288.72        933  "
      ]
     },
     "execution_count": 52,
     "metadata": {},
     "output_type": "execute_result"
    }
   ],
   "source": [
    "# 'Ordersize' feature egnineering\n",
    "df[\"OrderSize\"] = df.groupby(\"InvoiceNumber\")[\"Quantity\"].transform(\"sum\")\n",
    "# Check if it looks correct:\n",
    "df.sample(5)"
   ]
  },
  {
   "cell_type": "markdown",
   "metadata": {},
   "source": [
    "# ETL Pipeline\n",
    "\n",
    "To create the extra feature of 'CustomerTier' using lambda, and wrapping all preprocessing steps seen so far in this notebook in a ETL pipeline\n",
    "* Create a function for loading the data\n",
    "* Create a function for data cleaning steps\n",
    "* Create a function for feature engineering\n",
    "* Create a function applying lambda to create additional features"
   ]
  },
  {
   "cell_type": "code",
   "execution_count": 53,
   "metadata": {},
   "outputs": [],
   "source": [
    "def load_dataset(file_path):\n",
    "    return pd.read_excel(file_path)"
   ]
  },
  {
   "cell_type": "code",
   "execution_count": 54,
   "metadata": {},
   "outputs": [],
   "source": [
    "# Data cleaning\n",
    "def clean_data(df):\n",
    "    # Fill missing 'Description' using the most common value per 'StockCode'\n",
    "    df['Description'] = df.groupby('StockCode')['Description'].transform(lambda x: x.fillna(x.mode()[0]) if not x.mode().empty else x)\n",
    "    # Drop rows where 'Customer ID' is missing\n",
    "    df = df.dropna(subset=['Customer ID'])\n",
    "    # Drop duplicates\n",
    "    df.drop_duplicates(inplace=True)\n",
    "    # Rename 'Invoice' to 'InvoiceNumber'\n",
    "    df.rename(columns={'Invoice': 'InvoiceNumber'}, inplace=True)\n",
    "    return df"
   ]
  },
  {
   "cell_type": "code",
   "execution_count": 55,
   "metadata": {},
   "outputs": [],
   "source": [
    "# Feature engineering\n",
    "def create_features(df):\n",
    "    # 'Revenue' feature\n",
    "    df['Revenue'] = df['Quantity'] * df['Price']\n",
    "    # 'DayOfWeek' feature\n",
    "    df[\"DayOfWeek\"] = df[\"InvoiceDate\"].dt.day_name()\n",
    "    # 'TotalRevenue' feature\n",
    "    df[\"TotalRevenue\"] = df.groupby(\"Customer ID\")[\"Revenue\"].transform(\"sum\")\n",
    "    # 'MostPopularProduct' feature\n",
    "    most_popular_product = df.groupby(\"StockCode\")[\"Revenue\"].sum().idxmax()\n",
    "    df[\"MostPopularProduct\"] = most_popular_product\n",
    "    # 'OrderSize' feature\n",
    "    df[\"OrderSize\"] = df.groupby(\"InvoiceNumber\")[\"Quantity\"].transform(\"sum\")\n",
    "    return df"
   ]
  },
  {
   "cell_type": "code",
   "execution_count": 56,
   "metadata": {},
   "outputs": [],
   "source": [
    "# Apply lambda functions\n",
    "def apply_lambda_functions(df):\n",
    "    # Segment customers into tiers based on TotalRevenue\n",
    "    df[\"CustomerTier\"] = df[\"TotalRevenue\"].apply(lambda x: \"High\" if x > 1000 else \"Medium\" if x > 500 else \"Low\")\n",
    "    return df"
   ]
  },
  {
   "cell_type": "markdown",
   "metadata": {},
   "source": [
    "The result is a reuseable ETL pipeline that apply all these steps to the DF, preparing multiple dataframes in quick succesion"
   ]
  },
  {
   "cell_type": "code",
   "execution_count": 57,
   "metadata": {},
   "outputs": [],
   "source": [
    "# RSEULT: ETL pipeline\n",
    "def etl_pipeline(file_path):\n",
    "    df = load_dataset(file_path)\n",
    "    df = clean_data(df)\n",
    "    df = create_features(df)\n",
    "    df = apply_lambda_functions(df)\n",
    "    return df"
   ]
  },
  {
   "cell_type": "code",
   "execution_count": 59,
   "metadata": {},
   "outputs": [
    {
     "name": "stderr",
     "output_type": "stream",
     "text": [
      "C:\\Users\\danie\\AppData\\Local\\Temp\\ipykernel_23328\\262416665.py:8: SettingWithCopyWarning: \n",
      "A value is trying to be set on a copy of a slice from a DataFrame\n",
      "\n",
      "See the caveats in the documentation: https://pandas.pydata.org/pandas-docs/stable/user_guide/indexing.html#returning-a-view-versus-a-copy\n",
      "  df.drop_duplicates(inplace=True)\n",
      "C:\\Users\\danie\\AppData\\Local\\Temp\\ipykernel_23328\\262416665.py:10: SettingWithCopyWarning: \n",
      "A value is trying to be set on a copy of a slice from a DataFrame\n",
      "\n",
      "See the caveats in the documentation: https://pandas.pydata.org/pandas-docs/stable/user_guide/indexing.html#returning-a-view-versus-a-copy\n",
      "  df.rename(columns={'Invoice': 'InvoiceNumber'}, inplace=True)\n"
     ]
    },
    {
     "data": {
      "text/html": [
       "<div>\n",
       "<style scoped>\n",
       "    .dataframe tbody tr th:only-of-type {\n",
       "        vertical-align: middle;\n",
       "    }\n",
       "\n",
       "    .dataframe tbody tr th {\n",
       "        vertical-align: top;\n",
       "    }\n",
       "\n",
       "    .dataframe thead th {\n",
       "        text-align: right;\n",
       "    }\n",
       "</style>\n",
       "<table border=\"1\" class=\"dataframe\">\n",
       "  <thead>\n",
       "    <tr style=\"text-align: right;\">\n",
       "      <th></th>\n",
       "      <th>InvoiceNumber</th>\n",
       "      <th>StockCode</th>\n",
       "      <th>Description</th>\n",
       "      <th>Quantity</th>\n",
       "      <th>InvoiceDate</th>\n",
       "      <th>Price</th>\n",
       "      <th>Customer ID</th>\n",
       "      <th>Country</th>\n",
       "      <th>Revenue</th>\n",
       "      <th>DayOfWeek</th>\n",
       "      <th>TotalRevenue</th>\n",
       "      <th>MostPopularProduct</th>\n",
       "      <th>OrderSize</th>\n",
       "      <th>CustomerTier</th>\n",
       "    </tr>\n",
       "  </thead>\n",
       "  <tbody>\n",
       "    <tr>\n",
       "      <th>0</th>\n",
       "      <td>489434</td>\n",
       "      <td>85048</td>\n",
       "      <td>15CM CHRISTMAS GLASS BALL 20 LIGHTS</td>\n",
       "      <td>12</td>\n",
       "      <td>2009-12-01 07:45:00</td>\n",
       "      <td>6.95</td>\n",
       "      <td>13085.0</td>\n",
       "      <td>United Kingdom</td>\n",
       "      <td>83.4</td>\n",
       "      <td>Tuesday</td>\n",
       "      <td>1187.08</td>\n",
       "      <td>85123A</td>\n",
       "      <td>166</td>\n",
       "      <td>High</td>\n",
       "    </tr>\n",
       "    <tr>\n",
       "      <th>1</th>\n",
       "      <td>489434</td>\n",
       "      <td>79323P</td>\n",
       "      <td>PINK CHERRY LIGHTS</td>\n",
       "      <td>12</td>\n",
       "      <td>2009-12-01 07:45:00</td>\n",
       "      <td>6.75</td>\n",
       "      <td>13085.0</td>\n",
       "      <td>United Kingdom</td>\n",
       "      <td>81.0</td>\n",
       "      <td>Tuesday</td>\n",
       "      <td>1187.08</td>\n",
       "      <td>85123A</td>\n",
       "      <td>166</td>\n",
       "      <td>High</td>\n",
       "    </tr>\n",
       "    <tr>\n",
       "      <th>2</th>\n",
       "      <td>489434</td>\n",
       "      <td>79323W</td>\n",
       "      <td>WHITE CHERRY LIGHTS</td>\n",
       "      <td>12</td>\n",
       "      <td>2009-12-01 07:45:00</td>\n",
       "      <td>6.75</td>\n",
       "      <td>13085.0</td>\n",
       "      <td>United Kingdom</td>\n",
       "      <td>81.0</td>\n",
       "      <td>Tuesday</td>\n",
       "      <td>1187.08</td>\n",
       "      <td>85123A</td>\n",
       "      <td>166</td>\n",
       "      <td>High</td>\n",
       "    </tr>\n",
       "    <tr>\n",
       "      <th>3</th>\n",
       "      <td>489434</td>\n",
       "      <td>22041</td>\n",
       "      <td>RECORD FRAME 7\" SINGLE SIZE</td>\n",
       "      <td>48</td>\n",
       "      <td>2009-12-01 07:45:00</td>\n",
       "      <td>2.10</td>\n",
       "      <td>13085.0</td>\n",
       "      <td>United Kingdom</td>\n",
       "      <td>100.8</td>\n",
       "      <td>Tuesday</td>\n",
       "      <td>1187.08</td>\n",
       "      <td>85123A</td>\n",
       "      <td>166</td>\n",
       "      <td>High</td>\n",
       "    </tr>\n",
       "    <tr>\n",
       "      <th>4</th>\n",
       "      <td>489434</td>\n",
       "      <td>21232</td>\n",
       "      <td>STRAWBERRY CERAMIC TRINKET BOX</td>\n",
       "      <td>24</td>\n",
       "      <td>2009-12-01 07:45:00</td>\n",
       "      <td>1.25</td>\n",
       "      <td>13085.0</td>\n",
       "      <td>United Kingdom</td>\n",
       "      <td>30.0</td>\n",
       "      <td>Tuesday</td>\n",
       "      <td>1187.08</td>\n",
       "      <td>85123A</td>\n",
       "      <td>166</td>\n",
       "      <td>High</td>\n",
       "    </tr>\n",
       "  </tbody>\n",
       "</table>\n",
       "</div>"
      ],
      "text/plain": [
       "  InvoiceNumber StockCode                          Description  Quantity  \\\n",
       "0        489434     85048  15CM CHRISTMAS GLASS BALL 20 LIGHTS        12   \n",
       "1        489434    79323P                   PINK CHERRY LIGHTS        12   \n",
       "2        489434    79323W                  WHITE CHERRY LIGHTS        12   \n",
       "3        489434     22041         RECORD FRAME 7\" SINGLE SIZE         48   \n",
       "4        489434     21232       STRAWBERRY CERAMIC TRINKET BOX        24   \n",
       "\n",
       "          InvoiceDate  Price  Customer ID         Country  Revenue DayOfWeek  \\\n",
       "0 2009-12-01 07:45:00   6.95      13085.0  United Kingdom     83.4   Tuesday   \n",
       "1 2009-12-01 07:45:00   6.75      13085.0  United Kingdom     81.0   Tuesday   \n",
       "2 2009-12-01 07:45:00   6.75      13085.0  United Kingdom     81.0   Tuesday   \n",
       "3 2009-12-01 07:45:00   2.10      13085.0  United Kingdom    100.8   Tuesday   \n",
       "4 2009-12-01 07:45:00   1.25      13085.0  United Kingdom     30.0   Tuesday   \n",
       "\n",
       "   TotalRevenue MostPopularProduct  OrderSize CustomerTier  \n",
       "0       1187.08             85123A        166         High  \n",
       "1       1187.08             85123A        166         High  \n",
       "2       1187.08             85123A        166         High  \n",
       "3       1187.08             85123A        166         High  \n",
       "4       1187.08             85123A        166         High  "
      ]
     },
     "execution_count": 59,
     "metadata": {},
     "output_type": "execute_result"
    }
   ],
   "source": [
    "# Freshly declared a new dataframe to test the pipeline, it will preproccess the data the same way as i did manually in the notebook\n",
    "new_df = etl_pipeline(file_path)\n",
    "new_df.head()"
   ]
  },
  {
   "cell_type": "code",
   "execution_count": null,
   "metadata": {},
   "outputs": [],
   "source": []
  }
 ],
 "metadata": {
  "colab": {
   "authorship_tag": "ABX9TyOv/jP97MUJZKoZYvyNEDTy",
   "provenance": []
  },
  "kernelspec": {
   "display_name": "Python 3",
   "name": "python3"
  },
  "language_info": {
   "codemirror_mode": {
    "name": "ipython",
    "version": 3
   },
   "file_extension": ".py",
   "mimetype": "text/x-python",
   "name": "python",
   "nbconvert_exporter": "python",
   "pygments_lexer": "ipython3",
   "version": "3.12.3"
  }
 },
 "nbformat": 4,
 "nbformat_minor": 0
}
