{
 "cells": [
  {
   "cell_type": "markdown",
   "metadata": {
    "id": "AVFmQCVigOAM"
   },
   "source": [
    "# 6: Classification\n",
    "\n",
    "The hand-in exercise for this topic is Exercise 2 from the notebook “Exercises in\n",
    "Classification II.ipynb”"
   ]
  },
  {
   "cell_type": "markdown",
   "metadata": {
    "id": "fz9i-rK5gYO7"
   },
   "source": [
    "---"
   ]
  },
  {
   "cell_type": "markdown",
   "metadata": {
    "id": "HMKRxKh0gUM0"
   },
   "source": [
    "### Exercise 2 from the notebook “Exercises in Classification II.ipynb”\n",
    "\n",
    "1. Clean the income variable such that it has only two values\n",
    "2. Select as set of minimum two feature variables you want to use to predict income. Do the necessary transformation of these variables.\n",
    "3. Create X and y dataset and split the datasets into training and testing sets\n",
    "4. Train a KNN classifier to predict the variable income based on the feature variables selected in 2 - try out some different Ks\n",
    "5. Train a logistic regression classifier to predict the variable income based on the feature variables selected in 2 and compare it to the KNN classifier.\n",
    "6. Train a decision tree classifier to predict the variable income based on the feature variables selected in 2 and compare it to the previous classifiers.\n",
    "7. Train a random forest classifier to predict the variable income based on the feature variables selected in 2 and compare it to the previous classifiers.\n",
    "8. Train a AdaBoost classifier to predict the variable income based on the feature variables selected in 2 and compare it to the previous classifiers."
   ]
  },
  {
   "cell_type": "markdown",
   "metadata": {
    "id": "ublMFDAthalY"
   },
   "source": [
    "---"
   ]
  },
  {
   "cell_type": "markdown",
   "metadata": {
    "id": "948iirCbhSrz"
   },
   "source": [
    "### Assemble + Installs + Imports"
   ]
  },
  {
   "cell_type": "code",
   "execution_count": 1,
   "metadata": {
    "id": "c06oamkuhb_a"
   },
   "outputs": [],
   "source": [
    "# Only for while working in google colab, can be removed again using jupyter\n",
    "#from google.colab import files\n",
    "#uploaded = files.upload()"
   ]
  },
  {
   "cell_type": "code",
   "execution_count": 2,
   "metadata": {
    "id": "0sswRyaJiAPj"
   },
   "outputs": [],
   "source": [
    "# Lib imports for the notebook\n",
    "import pandas as pd\n",
    "import matplotlib.pyplot as plt\n",
    "import seaborn as sns\n",
    "import numpy as np\n",
    "import sklearn\n",
    "from sklearn.metrics import accuracy_score\n",
    "from sklearn.preprocessing import MinMaxScaler\n",
    "# The different classifiers:\n",
    "from sklearn.model_selection import train_test_split\n",
    "from sklearn.neighbors import KNeighborsClassifier\n",
    "from sklearn.linear_model import LogisticRegression\n",
    "from sklearn.tree import DecisionTreeClassifier\n",
    "from sklearn.ensemble import RandomForestClassifier\n",
    "from sklearn.ensemble import AdaBoostClassifier"
   ]
  },
  {
   "cell_type": "code",
   "execution_count": 3,
   "metadata": {
    "id": "wL3pH5EBhcRr"
   },
   "outputs": [],
   "source": [
    "# read the csv\n",
    "df = pd.read_csv(\"adult.csv\")"
   ]
  },
  {
   "cell_type": "markdown",
   "metadata": {
    "id": "Ec91RxMNgvL6"
   },
   "source": [
    "---"
   ]
  },
  {
   "cell_type": "markdown",
   "metadata": {
    "id": "18QCTPGtifne"
   },
   "source": [
    "### Initial EDA and datacleaning"
   ]
  },
  {
   "cell_type": "code",
   "execution_count": 4,
   "metadata": {
    "colab": {
     "base_uri": "https://localhost:8080/",
     "height": 554
    },
    "executionInfo": {
     "elapsed": 172,
     "status": "ok",
     "timestamp": 1741993664684,
     "user": {
      "displayName": "Daniel Iversen",
      "userId": "04843677771367093898"
     },
     "user_tz": -60
    },
    "id": "ewf3nDA9ifH7",
    "outputId": "a8aba681-d9e5-465d-9d14-9d2d50d6e03f"
   },
   "outputs": [
    {
     "data": {
      "text/html": [
       "<div>\n",
       "<style scoped>\n",
       "    .dataframe tbody tr th:only-of-type {\n",
       "        vertical-align: middle;\n",
       "    }\n",
       "\n",
       "    .dataframe tbody tr th {\n",
       "        vertical-align: top;\n",
       "    }\n",
       "\n",
       "    .dataframe thead th {\n",
       "        text-align: right;\n",
       "    }\n",
       "</style>\n",
       "<table border=\"1\" class=\"dataframe\">\n",
       "  <thead>\n",
       "    <tr style=\"text-align: right;\">\n",
       "      <th></th>\n",
       "      <th>age</th>\n",
       "      <th>workclass</th>\n",
       "      <th>fnlwgt</th>\n",
       "      <th>education</th>\n",
       "      <th>education-num</th>\n",
       "      <th>marital-status</th>\n",
       "      <th>occupation</th>\n",
       "      <th>relationship</th>\n",
       "      <th>race</th>\n",
       "      <th>sex</th>\n",
       "      <th>capital-gain</th>\n",
       "      <th>capital-loss</th>\n",
       "      <th>hours-per-week</th>\n",
       "      <th>native-country</th>\n",
       "      <th>income</th>\n",
       "    </tr>\n",
       "  </thead>\n",
       "  <tbody>\n",
       "    <tr>\n",
       "      <th>0</th>\n",
       "      <td>39</td>\n",
       "      <td>State-gov</td>\n",
       "      <td>77516</td>\n",
       "      <td>Bachelors</td>\n",
       "      <td>13</td>\n",
       "      <td>Never-married</td>\n",
       "      <td>Adm-clerical</td>\n",
       "      <td>Not-in-family</td>\n",
       "      <td>White</td>\n",
       "      <td>Male</td>\n",
       "      <td>2174</td>\n",
       "      <td>0</td>\n",
       "      <td>40</td>\n",
       "      <td>United-States</td>\n",
       "      <td>&lt;=50K</td>\n",
       "    </tr>\n",
       "    <tr>\n",
       "      <th>1</th>\n",
       "      <td>50</td>\n",
       "      <td>Self-emp-not-inc</td>\n",
       "      <td>83311</td>\n",
       "      <td>Bachelors</td>\n",
       "      <td>13</td>\n",
       "      <td>Married-civ-spouse</td>\n",
       "      <td>Exec-managerial</td>\n",
       "      <td>Husband</td>\n",
       "      <td>White</td>\n",
       "      <td>Male</td>\n",
       "      <td>0</td>\n",
       "      <td>0</td>\n",
       "      <td>13</td>\n",
       "      <td>United-States</td>\n",
       "      <td>&lt;=50K</td>\n",
       "    </tr>\n",
       "    <tr>\n",
       "      <th>2</th>\n",
       "      <td>38</td>\n",
       "      <td>Private</td>\n",
       "      <td>215646</td>\n",
       "      <td>HS-grad</td>\n",
       "      <td>9</td>\n",
       "      <td>Divorced</td>\n",
       "      <td>Handlers-cleaners</td>\n",
       "      <td>Not-in-family</td>\n",
       "      <td>White</td>\n",
       "      <td>Male</td>\n",
       "      <td>0</td>\n",
       "      <td>0</td>\n",
       "      <td>40</td>\n",
       "      <td>United-States</td>\n",
       "      <td>&lt;=50K</td>\n",
       "    </tr>\n",
       "    <tr>\n",
       "      <th>3</th>\n",
       "      <td>53</td>\n",
       "      <td>Private</td>\n",
       "      <td>234721</td>\n",
       "      <td>11th</td>\n",
       "      <td>7</td>\n",
       "      <td>Married-civ-spouse</td>\n",
       "      <td>Handlers-cleaners</td>\n",
       "      <td>Husband</td>\n",
       "      <td>Black</td>\n",
       "      <td>Male</td>\n",
       "      <td>0</td>\n",
       "      <td>0</td>\n",
       "      <td>40</td>\n",
       "      <td>United-States</td>\n",
       "      <td>&lt;=50K</td>\n",
       "    </tr>\n",
       "    <tr>\n",
       "      <th>4</th>\n",
       "      <td>28</td>\n",
       "      <td>Private</td>\n",
       "      <td>338409</td>\n",
       "      <td>Bachelors</td>\n",
       "      <td>13</td>\n",
       "      <td>Married-civ-spouse</td>\n",
       "      <td>Prof-specialty</td>\n",
       "      <td>Wife</td>\n",
       "      <td>Black</td>\n",
       "      <td>Female</td>\n",
       "      <td>0</td>\n",
       "      <td>0</td>\n",
       "      <td>40</td>\n",
       "      <td>Cuba</td>\n",
       "      <td>&lt;=50K</td>\n",
       "    </tr>\n",
       "    <tr>\n",
       "      <th>5</th>\n",
       "      <td>37</td>\n",
       "      <td>Private</td>\n",
       "      <td>284582</td>\n",
       "      <td>Masters</td>\n",
       "      <td>14</td>\n",
       "      <td>Married-civ-spouse</td>\n",
       "      <td>Exec-managerial</td>\n",
       "      <td>Wife</td>\n",
       "      <td>White</td>\n",
       "      <td>Female</td>\n",
       "      <td>0</td>\n",
       "      <td>0</td>\n",
       "      <td>40</td>\n",
       "      <td>United-States</td>\n",
       "      <td>&lt;=50K</td>\n",
       "    </tr>\n",
       "    <tr>\n",
       "      <th>6</th>\n",
       "      <td>49</td>\n",
       "      <td>Private</td>\n",
       "      <td>160187</td>\n",
       "      <td>9th</td>\n",
       "      <td>5</td>\n",
       "      <td>Married-spouse-absent</td>\n",
       "      <td>Other-service</td>\n",
       "      <td>Not-in-family</td>\n",
       "      <td>Black</td>\n",
       "      <td>Female</td>\n",
       "      <td>0</td>\n",
       "      <td>0</td>\n",
       "      <td>16</td>\n",
       "      <td>Jamaica</td>\n",
       "      <td>&lt;=50K</td>\n",
       "    </tr>\n",
       "    <tr>\n",
       "      <th>7</th>\n",
       "      <td>52</td>\n",
       "      <td>Self-emp-not-inc</td>\n",
       "      <td>209642</td>\n",
       "      <td>HS-grad</td>\n",
       "      <td>9</td>\n",
       "      <td>Married-civ-spouse</td>\n",
       "      <td>Exec-managerial</td>\n",
       "      <td>Husband</td>\n",
       "      <td>White</td>\n",
       "      <td>Male</td>\n",
       "      <td>0</td>\n",
       "      <td>0</td>\n",
       "      <td>45</td>\n",
       "      <td>United-States</td>\n",
       "      <td>&gt;50K</td>\n",
       "    </tr>\n",
       "    <tr>\n",
       "      <th>8</th>\n",
       "      <td>31</td>\n",
       "      <td>Private</td>\n",
       "      <td>45781</td>\n",
       "      <td>Masters</td>\n",
       "      <td>14</td>\n",
       "      <td>Never-married</td>\n",
       "      <td>Prof-specialty</td>\n",
       "      <td>Not-in-family</td>\n",
       "      <td>White</td>\n",
       "      <td>Female</td>\n",
       "      <td>14084</td>\n",
       "      <td>0</td>\n",
       "      <td>50</td>\n",
       "      <td>United-States</td>\n",
       "      <td>&gt;50K</td>\n",
       "    </tr>\n",
       "    <tr>\n",
       "      <th>9</th>\n",
       "      <td>42</td>\n",
       "      <td>Private</td>\n",
       "      <td>159449</td>\n",
       "      <td>Bachelors</td>\n",
       "      <td>13</td>\n",
       "      <td>Married-civ-spouse</td>\n",
       "      <td>Exec-managerial</td>\n",
       "      <td>Husband</td>\n",
       "      <td>White</td>\n",
       "      <td>Male</td>\n",
       "      <td>5178</td>\n",
       "      <td>0</td>\n",
       "      <td>40</td>\n",
       "      <td>United-States</td>\n",
       "      <td>&gt;50K</td>\n",
       "    </tr>\n",
       "  </tbody>\n",
       "</table>\n",
       "</div>"
      ],
      "text/plain": [
       "   age         workclass  fnlwgt  education  education-num  \\\n",
       "0   39         State-gov   77516  Bachelors             13   \n",
       "1   50  Self-emp-not-inc   83311  Bachelors             13   \n",
       "2   38           Private  215646    HS-grad              9   \n",
       "3   53           Private  234721       11th              7   \n",
       "4   28           Private  338409  Bachelors             13   \n",
       "5   37           Private  284582    Masters             14   \n",
       "6   49           Private  160187        9th              5   \n",
       "7   52  Self-emp-not-inc  209642    HS-grad              9   \n",
       "8   31           Private   45781    Masters             14   \n",
       "9   42           Private  159449  Bachelors             13   \n",
       "\n",
       "          marital-status         occupation   relationship   race     sex  \\\n",
       "0          Never-married       Adm-clerical  Not-in-family  White    Male   \n",
       "1     Married-civ-spouse    Exec-managerial        Husband  White    Male   \n",
       "2               Divorced  Handlers-cleaners  Not-in-family  White    Male   \n",
       "3     Married-civ-spouse  Handlers-cleaners        Husband  Black    Male   \n",
       "4     Married-civ-spouse     Prof-specialty           Wife  Black  Female   \n",
       "5     Married-civ-spouse    Exec-managerial           Wife  White  Female   \n",
       "6  Married-spouse-absent      Other-service  Not-in-family  Black  Female   \n",
       "7     Married-civ-spouse    Exec-managerial        Husband  White    Male   \n",
       "8          Never-married     Prof-specialty  Not-in-family  White  Female   \n",
       "9     Married-civ-spouse    Exec-managerial        Husband  White    Male   \n",
       "\n",
       "   capital-gain  capital-loss  hours-per-week native-country income  \n",
       "0          2174             0              40  United-States  <=50K  \n",
       "1             0             0              13  United-States  <=50K  \n",
       "2             0             0              40  United-States  <=50K  \n",
       "3             0             0              40  United-States  <=50K  \n",
       "4             0             0              40           Cuba  <=50K  \n",
       "5             0             0              40  United-States  <=50K  \n",
       "6             0             0              16        Jamaica  <=50K  \n",
       "7             0             0              45  United-States   >50K  \n",
       "8         14084             0              50  United-States   >50K  \n",
       "9          5178             0              40  United-States   >50K  "
      ]
     },
     "execution_count": 4,
     "metadata": {},
     "output_type": "execute_result"
    }
   ],
   "source": [
    "df.head(10)"
   ]
  },
  {
   "cell_type": "code",
   "execution_count": 5,
   "metadata": {
    "colab": {
     "base_uri": "https://localhost:8080/"
    },
    "executionInfo": {
     "elapsed": 87,
     "status": "ok",
     "timestamp": 1741993664771,
     "user": {
      "displayName": "Daniel Iversen",
      "userId": "04843677771367093898"
     },
     "user_tz": -60
    },
    "id": "YSTFx73ljNaT",
    "outputId": "15acebab-829e-44f6-c47b-43a7ccdff196"
   },
   "outputs": [
    {
     "name": "stdout",
     "output_type": "stream",
     "text": [
      "<class 'pandas.core.frame.DataFrame'>\n",
      "RangeIndex: 48842 entries, 0 to 48841\n",
      "Data columns (total 15 columns):\n",
      " #   Column          Non-Null Count  Dtype \n",
      "---  ------          --------------  ----- \n",
      " 0   age             48842 non-null  int64 \n",
      " 1   workclass       47879 non-null  object\n",
      " 2   fnlwgt          48842 non-null  int64 \n",
      " 3   education       48842 non-null  object\n",
      " 4   education-num   48842 non-null  int64 \n",
      " 5   marital-status  48842 non-null  object\n",
      " 6   occupation      47876 non-null  object\n",
      " 7   relationship    48842 non-null  object\n",
      " 8   race            48842 non-null  object\n",
      " 9   sex             48842 non-null  object\n",
      " 10  capital-gain    48842 non-null  int64 \n",
      " 11  capital-loss    48842 non-null  int64 \n",
      " 12  hours-per-week  48842 non-null  int64 \n",
      " 13  native-country  48568 non-null  object\n",
      " 14  income          48842 non-null  object\n",
      "dtypes: int64(6), object(9)\n",
      "memory usage: 5.6+ MB\n"
     ]
    }
   ],
   "source": [
    "df.info()"
   ]
  },
  {
   "cell_type": "code",
   "execution_count": 6,
   "metadata": {
    "colab": {
     "base_uri": "https://localhost:8080/",
     "height": 300
    },
    "executionInfo": {
     "elapsed": 6,
     "status": "ok",
     "timestamp": 1741993664772,
     "user": {
      "displayName": "Daniel Iversen",
      "userId": "04843677771367093898"
     },
     "user_tz": -60
    },
    "id": "wf8pK8hsjQVP",
    "outputId": "d05b8e4d-6c4c-45b3-eba6-b93510811deb"
   },
   "outputs": [
    {
     "data": {
      "text/html": [
       "<div>\n",
       "<style scoped>\n",
       "    .dataframe tbody tr th:only-of-type {\n",
       "        vertical-align: middle;\n",
       "    }\n",
       "\n",
       "    .dataframe tbody tr th {\n",
       "        vertical-align: top;\n",
       "    }\n",
       "\n",
       "    .dataframe thead th {\n",
       "        text-align: right;\n",
       "    }\n",
       "</style>\n",
       "<table border=\"1\" class=\"dataframe\">\n",
       "  <thead>\n",
       "    <tr style=\"text-align: right;\">\n",
       "      <th></th>\n",
       "      <th>age</th>\n",
       "      <th>fnlwgt</th>\n",
       "      <th>education-num</th>\n",
       "      <th>capital-gain</th>\n",
       "      <th>capital-loss</th>\n",
       "      <th>hours-per-week</th>\n",
       "    </tr>\n",
       "  </thead>\n",
       "  <tbody>\n",
       "    <tr>\n",
       "      <th>count</th>\n",
       "      <td>48842.000000</td>\n",
       "      <td>4.884200e+04</td>\n",
       "      <td>48842.000000</td>\n",
       "      <td>48842.000000</td>\n",
       "      <td>48842.000000</td>\n",
       "      <td>48842.000000</td>\n",
       "    </tr>\n",
       "    <tr>\n",
       "      <th>mean</th>\n",
       "      <td>38.643585</td>\n",
       "      <td>1.896641e+05</td>\n",
       "      <td>10.078089</td>\n",
       "      <td>1079.067626</td>\n",
       "      <td>87.502314</td>\n",
       "      <td>40.422382</td>\n",
       "    </tr>\n",
       "    <tr>\n",
       "      <th>std</th>\n",
       "      <td>13.710510</td>\n",
       "      <td>1.056040e+05</td>\n",
       "      <td>2.570973</td>\n",
       "      <td>7452.019058</td>\n",
       "      <td>403.004552</td>\n",
       "      <td>12.391444</td>\n",
       "    </tr>\n",
       "    <tr>\n",
       "      <th>min</th>\n",
       "      <td>17.000000</td>\n",
       "      <td>1.228500e+04</td>\n",
       "      <td>1.000000</td>\n",
       "      <td>0.000000</td>\n",
       "      <td>0.000000</td>\n",
       "      <td>1.000000</td>\n",
       "    </tr>\n",
       "    <tr>\n",
       "      <th>25%</th>\n",
       "      <td>28.000000</td>\n",
       "      <td>1.175505e+05</td>\n",
       "      <td>9.000000</td>\n",
       "      <td>0.000000</td>\n",
       "      <td>0.000000</td>\n",
       "      <td>40.000000</td>\n",
       "    </tr>\n",
       "    <tr>\n",
       "      <th>50%</th>\n",
       "      <td>37.000000</td>\n",
       "      <td>1.781445e+05</td>\n",
       "      <td>10.000000</td>\n",
       "      <td>0.000000</td>\n",
       "      <td>0.000000</td>\n",
       "      <td>40.000000</td>\n",
       "    </tr>\n",
       "    <tr>\n",
       "      <th>75%</th>\n",
       "      <td>48.000000</td>\n",
       "      <td>2.376420e+05</td>\n",
       "      <td>12.000000</td>\n",
       "      <td>0.000000</td>\n",
       "      <td>0.000000</td>\n",
       "      <td>45.000000</td>\n",
       "    </tr>\n",
       "    <tr>\n",
       "      <th>max</th>\n",
       "      <td>90.000000</td>\n",
       "      <td>1.490400e+06</td>\n",
       "      <td>16.000000</td>\n",
       "      <td>99999.000000</td>\n",
       "      <td>4356.000000</td>\n",
       "      <td>99.000000</td>\n",
       "    </tr>\n",
       "  </tbody>\n",
       "</table>\n",
       "</div>"
      ],
      "text/plain": [
       "                age        fnlwgt  education-num  capital-gain  capital-loss  \\\n",
       "count  48842.000000  4.884200e+04   48842.000000  48842.000000  48842.000000   \n",
       "mean      38.643585  1.896641e+05      10.078089   1079.067626     87.502314   \n",
       "std       13.710510  1.056040e+05       2.570973   7452.019058    403.004552   \n",
       "min       17.000000  1.228500e+04       1.000000      0.000000      0.000000   \n",
       "25%       28.000000  1.175505e+05       9.000000      0.000000      0.000000   \n",
       "50%       37.000000  1.781445e+05      10.000000      0.000000      0.000000   \n",
       "75%       48.000000  2.376420e+05      12.000000      0.000000      0.000000   \n",
       "max       90.000000  1.490400e+06      16.000000  99999.000000   4356.000000   \n",
       "\n",
       "       hours-per-week  \n",
       "count    48842.000000  \n",
       "mean        40.422382  \n",
       "std         12.391444  \n",
       "min          1.000000  \n",
       "25%         40.000000  \n",
       "50%         40.000000  \n",
       "75%         45.000000  \n",
       "max         99.000000  "
      ]
     },
     "execution_count": 6,
     "metadata": {},
     "output_type": "execute_result"
    }
   ],
   "source": [
    "df.describe()"
   ]
  },
  {
   "cell_type": "markdown",
   "metadata": {
    "id": "Wcjw2SqlioAG"
   },
   "source": [
    "---"
   ]
  },
  {
   "cell_type": "markdown",
   "metadata": {
    "id": "l_AXUnufgv-E"
   },
   "source": [
    "### 1. Clean the income variable such that it has only two values"
   ]
  },
  {
   "cell_type": "code",
   "execution_count": 7,
   "metadata": {
    "colab": {
     "base_uri": "https://localhost:8080/",
     "height": 241
    },
    "executionInfo": {
     "elapsed": 8,
     "status": "ok",
     "timestamp": 1741993664779,
     "user": {
      "displayName": "Daniel Iversen",
      "userId": "04843677771367093898"
     },
     "user_tz": -60
    },
    "id": "5mM413HLiyBM",
    "outputId": "abd8135b-2791-4efb-c3d7-e82de392f3be"
   },
   "outputs": [
    {
     "data": {
      "text/plain": [
       "income\n",
       "<=50K     24720\n",
       "<=50K.    12435\n",
       ">50K       7841\n",
       ">50K.      3846\n",
       "Name: count, dtype: int64"
      ]
     },
     "execution_count": 7,
     "metadata": {},
     "output_type": "execute_result"
    }
   ],
   "source": [
    "# To do this lets first see how many different values income currently holds\n",
    "df['income'].value_counts()"
   ]
  },
  {
   "cell_type": "markdown",
   "metadata": {
    "id": "alqxQkWFi_yq"
   },
   "source": [
    "There seem to be a encoding error, we will merge the value ending with a dot to the actual ones, so no data is lost."
   ]
  },
  {
   "cell_type": "code",
   "execution_count": 8,
   "metadata": {
    "colab": {
     "base_uri": "https://localhost:8080/",
     "height": 178
    },
    "executionInfo": {
     "elapsed": 30,
     "status": "ok",
     "timestamp": 1741993664809,
     "user": {
      "displayName": "Daniel Iversen",
      "userId": "04843677771367093898"
     },
     "user_tz": -60
    },
    "id": "pmAR62qvkCwJ",
    "outputId": "9f381519-c42b-4ec5-8fe6-762499f16cbe"
   },
   "outputs": [
    {
     "data": {
      "text/plain": [
       "income\n",
       "<=50K    37155\n",
       ">50K     11687\n",
       "Name: count, dtype: int64"
      ]
     },
     "execution_count": 8,
     "metadata": {},
     "output_type": "execute_result"
    }
   ],
   "source": [
    "# Lets merge the the values into only 2 categories by trimming dots in the column entries\n",
    "df[\"income\"] = df[\"income\"].str.replace(\".\", \"\")\n",
    "# Lets see if it worked\n",
    "df['income'].value_counts()"
   ]
  },
  {
   "cell_type": "markdown",
   "metadata": {
    "id": "lvF_k8vfhKlx"
   },
   "source": [
    "---"
   ]
  },
  {
   "cell_type": "markdown",
   "metadata": {
    "id": "GP-Debekg1Z5"
   },
   "source": [
    "### 2. Select as set of minimum two feature variables you want to use to predict income. Do the necessary transformation of these variables.\n",
    "\n",
    "Im going to select two numerical features to predict income\n",
    "- 'education-num': Motivated by the assumption that higher education rewards higher paying jobs\n",
    "- 'age': Motivated by the assumption that older people have more work experience and therefor are qualified for higher paying jobs"
   ]
  },
  {
   "cell_type": "markdown",
   "metadata": {
    "id": "iIGLIoL8l5D0"
   },
   "source": [
    "Since aducation num and age ranges in very diffent numbers, we are going to scale the features so they are ready for modelling or comparison"
   ]
  },
  {
   "cell_type": "code",
   "execution_count": 9,
   "metadata": {
    "colab": {
     "base_uri": "https://localhost:8080/"
    },
    "executionInfo": {
     "elapsed": 1,
     "status": "ok",
     "timestamp": 1741993664811,
     "user": {
      "displayName": "Daniel Iversen",
      "userId": "04843677771367093898"
     },
     "user_tz": -60
    },
    "id": "nQFoq9_Kk2Lo",
    "outputId": "2729e41b-d269-4dde-bc17-6d90966d4ed7"
   },
   "outputs": [
    {
     "name": "stdout",
     "output_type": "stream",
     "text": [
      "        age  education-num\n",
      "0  0.301370       0.800000\n",
      "1  0.452055       0.800000\n",
      "2  0.287671       0.533333\n",
      "3  0.493151       0.400000\n",
      "4  0.150685       0.800000\n"
     ]
    }
   ],
   "source": [
    "# My chosen features\n",
    "income_features = [\"age\", \"education-num\"]\n",
    "# Init a MinMaxScaler\n",
    "scaler = MinMaxScaler()\n",
    "# Apply the scaler\n",
    "df[income_features] = scaler.fit_transform(df[income_features])\n",
    "# Asses result\n",
    "print(df[income_features].head())"
   ]
  },
  {
   "cell_type": "markdown",
   "metadata": {
    "id": "p4Mq3_4img3A"
   },
   "source": [
    "This is done to prevent the chance of one variable weighting higher than another when training a model using these features"
   ]
  },
  {
   "cell_type": "markdown",
   "metadata": {
    "id": "hjDfpnO5hLxn"
   },
   "source": [
    "---"
   ]
  },
  {
   "cell_type": "markdown",
   "metadata": {
    "id": "-F9o-Y0zg1QE"
   },
   "source": [
    "### 3. Create X and y dataset and split the datasets into training and testing sets\n",
    "\n",
    "This can easily be accomplished using sklearn train_test_split library"
   ]
  },
  {
   "cell_type": "code",
   "execution_count": 10,
   "metadata": {
    "id": "kRu8E18inEJu"
   },
   "outputs": [],
   "source": [
    "# Chose my features (x) and my target (y)\n",
    "X = df[[\"age\", \"education-num\"]]\n",
    "y = df[\"income\"].map({\">50K\": 1, \"<=50K\": 0}) # Map to binary\n",
    "# Split into train/test\n",
    "X_train, X_test, y_train, y_test = train_test_split(X, y, test_size=0.2, random_state=42)"
   ]
  },
  {
   "cell_type": "markdown",
   "metadata": {
    "id": "VcR_Q3O6hMh4"
   },
   "source": [
    "---"
   ]
  },
  {
   "cell_type": "markdown",
   "metadata": {
    "id": "Kh5dZ_i0g1Jl"
   },
   "source": [
    "### 4. Train a KNN classifier to predict the variable income based on the feature variables selected in 2 - try out some different Ks\n",
    "\n",
    "Create a graph to visualize the best posibileties for a good K"
   ]
  },
  {
   "cell_type": "code",
   "execution_count": 11,
   "metadata": {
    "colab": {
     "base_uri": "https://localhost:8080/",
     "height": 465
    },
    "executionInfo": {
     "elapsed": 7676,
     "status": "ok",
     "timestamp": 1741993672509,
     "user": {
      "displayName": "Daniel Iversen",
      "userId": "04843677771367093898"
     },
     "user_tz": -60
    },
    "id": "DhfXaPK8nfTS",
    "outputId": "7ac56dff-57c3-462f-c1af-eb457eecb81c"
   },
   "outputs": [
    {
     "data": {
      "image/png": "[encoded data removed]",
      "text/plain": [
       "<Figure size 800x500 with 1 Axes>"
      ]
     },
     "metadata": {},
     "output_type": "display_data"
    }
   ],
   "source": [
    "# empty list to store the errors in so we can plot them afterwards\n",
    "errors = []\n",
    "\n",
    "# For loop to try k ranging from 1 to 20\n",
    "for k in range(1, 21):\n",
    "    knn = KNeighborsClassifier(n_neighbors=k)\n",
    "    knn.fit(X_train, y_train)\n",
    "    y_pred = knn.predict(X_test) # predict each k in the loop to find the best contender\n",
    "    error = 1 - accuracy_score(y_test, y_pred)\n",
    "    errors.append(error)\n",
    "\n",
    "# Plot the graph\n",
    "plt.figure(figsize=(8, 5))\n",
    "plt.plot(range(1, 21), errors, marker='o', linestyle='dashed', color='blue')\n",
    "plt.xlabel(\"k\")\n",
    "plt.ylabel(\"error\")\n",
    "plt.show()"
   ]
  },
  {
   "cell_type": "markdown",
   "metadata": {
    "id": "fvZB8dFHowHa"
   },
   "source": [
    "Now lets train the KNN classifier"
   ]
  },
  {
   "cell_type": "code",
   "execution_count": 12,
   "metadata": {
    "colab": {
     "base_uri": "https://localhost:8080/"
    },
    "executionInfo": {
     "elapsed": 351,
     "status": "ok",
     "timestamp": 1741993672860,
     "user": {
      "displayName": "Daniel Iversen",
      "userId": "04843677771367093898"
     },
     "user_tz": -60
    },
    "id": "VFnw8EP9o4rX",
    "outputId": "eddcd865-98d1-47f6-de67-104d0d225f70"
   },
   "outputs": [
    {
     "name": "stdout",
     "output_type": "stream",
     "text": [
      "Accuracy: 0.776230934589006\n"
     ]
    }
   ],
   "source": [
    "# using the optimal k found in the visualization above\n",
    "k = 18\n",
    "knn_classifier = KNeighborsClassifier(n_neighbors=k)\n",
    "knn_classifier.fit(X_train, y_train)\n",
    "# Predict!\n",
    "y_pred = knn_classifier.predict(X_test)\n",
    "# Evaæuation metrics:\n",
    "accuracy = accuracy_score(y_test, y_pred)\n",
    "print(\"Accuracy: \" + str(accuracy))"
   ]
  },
  {
   "cell_type": "markdown",
   "metadata": {
    "id": "dt4W0RZArJ-I"
   },
   "source": [
    "It would seem the accuracy is the same as we read it on the elbowmethod plot"
   ]
  },
  {
   "cell_type": "markdown",
   "metadata": {
    "id": "gu6iR1ulhOK-"
   },
   "source": [
    "---"
   ]
  },
  {
   "cell_type": "markdown",
   "metadata": {
    "id": "87n1mmaKhAoR"
   },
   "source": [
    "### 5. Train a logistic regression classifier to predict the variable income based on the feature variables selected in 2 and compare it to the KNN classifier."
   ]
  },
  {
   "cell_type": "code",
   "execution_count": 13,
   "metadata": {
    "colab": {
     "base_uri": "https://localhost:8080/"
    },
    "executionInfo": {
     "elapsed": 35,
     "status": "ok",
     "timestamp": 1741993672905,
     "user": {
      "displayName": "Daniel Iversen",
      "userId": "04843677771367093898"
     },
     "user_tz": -60
    },
    "id": "Kcnd3JcctNMG",
    "outputId": "c43f8e9d-0138-4bc2-b386-a5cbd29c1e0e"
   },
   "outputs": [
    {
     "name": "stdout",
     "output_type": "stream",
     "text": [
      "Logistic Regression Accuracy: 0.7801207902548879\n"
     ]
    }
   ],
   "source": [
    "# Init a log reg model and fir the data from my train/test split\n",
    "log_reg = LogisticRegression()\n",
    "log_reg.fit(X_train, y_train)\n",
    "# Predict!\n",
    "log_reg_y_pred = log_reg.predict(X_test)\n",
    "# Evaluation\n",
    "log_reg_accuracy = accuracy_score(y_test, log_reg_y_pred)\n",
    "print(\"Logistic Regression Accuracy: \" + str(log_reg_accuracy))"
   ]
  },
  {
   "cell_type": "markdown",
   "metadata": {
    "id": "ImYVtsBLtzal"
   },
   "source": [
    "Lets compare KNN vs Logistic Regression:"
   ]
  },
  {
   "cell_type": "code",
   "execution_count": 14,
   "metadata": {
    "colab": {
     "base_uri": "https://localhost:8080/"
    },
    "executionInfo": {
     "elapsed": 6,
     "status": "ok",
     "timestamp": 1741993672911,
     "user": {
      "displayName": "Daniel Iversen",
      "userId": "04843677771367093898"
     },
     "user_tz": -60
    },
    "id": "C4VuPvVpt40C",
    "outputId": "325056c8-09e2-44b8-bda0-1874701b79cb"
   },
   "outputs": [
    {
     "name": "stdout",
     "output_type": "stream",
     "text": [
      "KNN Accuracy: 0.776230934589006\n",
      "Logistic Regression Accuracy: 0.7801207902548879\n",
      "Logistic Regression WINS!!!\n"
     ]
    }
   ],
   "source": [
    "# The Score:\n",
    "print(\"KNN Accuracy: \" + str(accuracy))\n",
    "print(\"Logistic Regression Accuracy: \" + str(log_reg_accuracy))\n",
    "# Case statement to print the winner\n",
    "if log_reg_accuracy > accuracy:\n",
    "    print(\"Logistic Regression WINS!!!\")\n",
    "elif log_reg_accuracy < accuracy:\n",
    "    print(\"KNN (K=\" + str(k) + \") WINS!!!\")\n",
    "else:\n",
    "    print(\"Both models have the same accuracy score\")"
   ]
  },
  {
   "cell_type": "markdown",
   "metadata": {
    "id": "XKH5Qx0DhO5K"
   },
   "source": [
    "---"
   ]
  },
  {
   "cell_type": "markdown",
   "metadata": {
    "id": "JQLDHsBVg02D"
   },
   "source": [
    "6. Train a decision tree classifier to predict the variable income based on the feature variables selected in 2 and compare it to the previous classifiers."
   ]
  },
  {
   "cell_type": "code",
   "execution_count": 15,
   "metadata": {
    "colab": {
     "base_uri": "https://localhost:8080/"
    },
    "executionInfo": {
     "elapsed": 29,
     "status": "ok",
     "timestamp": 1741993672949,
     "user": {
      "displayName": "Daniel Iversen",
      "userId": "04843677771367093898"
     },
     "user_tz": -60
    },
    "id": "JX6ims9uvBER",
    "outputId": "9d5132a4-6de4-4f99-9d0f-a6cd3e2ef89a"
   },
   "outputs": [
    {
     "name": "stdout",
     "output_type": "stream",
     "text": [
      "Decision Tree Accuracy: 0.7904596171563107\n"
     ]
    }
   ],
   "source": [
    "# Init a decision tree classifier\n",
    "tree_classi = DecisionTreeClassifier(random_state=42, max_depth=5)\n",
    "tree_classi.fit(X_train, y_train)\n",
    "# predict\n",
    "y_pred_tree = tree_classi.predict(X_test)\n",
    "# Evaluation\n",
    "tree_accuracy = accuracy_score(y_test, y_pred_tree)\n",
    "print(\"Decision Tree Accuracy: \" + str(tree_accuracy))"
   ]
  },
  {
   "cell_type": "markdown",
   "metadata": {
    "id": "oyjSPB92vdKB"
   },
   "source": [
    "Lets compare the 3 contenders now:"
   ]
  },
  {
   "cell_type": "code",
   "execution_count": 16,
   "metadata": {
    "colab": {
     "base_uri": "https://localhost:8080/"
    },
    "executionInfo": {
     "elapsed": 19,
     "status": "ok",
     "timestamp": 1741993672972,
     "user": {
      "displayName": "Daniel Iversen",
      "userId": "04843677771367093898"
     },
     "user_tz": -60
    },
    "id": "WPkN66hdvhdg",
    "outputId": "4f8106c4-3f00-4a81-c438-1a12975ea501"
   },
   "outputs": [
    {
     "name": "stdout",
     "output_type": "stream",
     "text": [
      "Contenders:\n",
      "KNN Accuracy: 0.776230934589006\n",
      "Logistic Regression Accuracy: 0.7801207902548879\n",
      "Decision Tree Accuracy: 0.7904596171563107\n",
      "Highest acc:\n",
      "Decesion Tree Classifier WINS!!!\n"
     ]
    }
   ],
   "source": [
    "print(\"Contenders:\")\n",
    "print(\"KNN Accuracy: \" + str(accuracy))\n",
    "print(\"Logistic Regression Accuracy: \" + str(log_reg_accuracy))\n",
    "print(\"Decision Tree Accuracy: \" + str(tree_accuracy))\n",
    "# Choose the best performing model and print it\n",
    "print(\"Highest acc:\")\n",
    "if accuracy > max(log_reg_accuracy, tree_accuracy):\n",
    "     print(\"KNN (K=\" + str(k) + \") WINS!!!\")\n",
    "elif log_reg_accuracy > max(accuracy, tree_accuracy):\n",
    "    print(\"Logistic Regression WINS!!!\")\n",
    "elif tree_accuracy > max(accuracy, log_reg_accuracy):\n",
    "    print(\"Decesion Tree Classifier WINS!!!\")\n",
    "else:\n",
    "    print(\"All models have the same accuracy score\")"
   ]
  },
  {
   "cell_type": "markdown",
   "metadata": {
    "id": "gSherENDhQc8"
   },
   "source": [
    "---"
   ]
  },
  {
   "cell_type": "markdown",
   "metadata": {
    "id": "VrZaSYWehFtT"
   },
   "source": [
    "### 7. Train a random forest classifier to predict the variable income based on the feature variables selected in 2 and compare it to the previous classifiers."
   ]
  },
  {
   "cell_type": "code",
   "execution_count": 17,
   "metadata": {
    "id": "d_SReOSVyRd9"
   },
   "outputs": [],
   "source": [
    "# Init a random forest classifier\n",
    "rf_classi = RandomForestClassifier(n_estimators=100, random_state=42, max_depth=5)  # Adjust depth if needed\n",
    "rf_classi.fit(X_train, y_train)\n",
    "# Preedict\n",
    "y_pred_rf = rf_classi.predict(X_test)\n",
    "# Evaluate\n",
    "rf_accuracy = accuracy_score(y_test, y_pred_rf)"
   ]
  },
  {
   "cell_type": "markdown",
   "metadata": {
    "id": "7_z-g-Sr5D8n"
   },
   "source": [
    "Lets compare the now 4 contenders"
   ]
  },
  {
   "cell_type": "code",
   "execution_count": 18,
   "metadata": {
    "colab": {
     "base_uri": "https://localhost:8080/"
    },
    "executionInfo": {
     "elapsed": 10,
     "status": "ok",
     "timestamp": 1741993674020,
     "user": {
      "displayName": "Daniel Iversen",
      "userId": "04843677771367093898"
     },
     "user_tz": -60
    },
    "id": "HIJUGmENyYDU",
    "outputId": "2a9d0202-6399-46c1-e136-449b98a2e115"
   },
   "outputs": [
    {
     "name": "stdout",
     "output_type": "stream",
     "text": [
      "Contenders:\n",
      "KNN Accuracy: 0.776230934589006\n",
      "Logistic Regression Accuracy: 0.7801207902548879\n",
      "Decision Tree Accuracy: 0.7904596171563107\n",
      "Random Forest Accuracy: 0.7923021803664654\n",
      "Highest acc:\n",
      "Random Forest Classifier WINS!!!\n"
     ]
    }
   ],
   "source": [
    "# Lets compare again\n",
    "print(\"Contenders:\")\n",
    "print(\"KNN Accuracy: \" + str(accuracy))\n",
    "print(\"Logistic Regression Accuracy: \" + str(log_reg_accuracy))\n",
    "print(\"Decision Tree Accuracy: \" + str(tree_accuracy))\n",
    "print(\"Random Forest Accuracy: \" + str(rf_accuracy))\n",
    "# Choose the best performing model and print it\n",
    "print(\"Highest acc:\")\n",
    "if accuracy > max(log_reg_accuracy, tree_accuracy, rf_accuracy):\n",
    "     print(\"KNN (K=\" + str(k) + \") WINS!!!\")\n",
    "elif log_reg_accuracy > max(accuracy, tree_accuracy, rf_accuracy):\n",
    "    print(\"Logistic Regression WINS!!!\")\n",
    "elif tree_accuracy > max(accuracy, log_reg_accuracy, rf_accuracy):\n",
    "    print(\"Decision Tree Classifier WINS!!!\")\n",
    "elif rf_accuracy > max(accuracy, log_reg_accuracy, tree_accuracy):\n",
    "    print(\"Random Forest Classifier WINS!!!\")\n",
    "else:\n",
    "    print(\"All models have the same accuracy score\")"
   ]
  },
  {
   "cell_type": "markdown",
   "metadata": {
    "id": "C1Tjuk6DhQ_s"
   },
   "source": [
    "---"
   ]
  },
  {
   "cell_type": "markdown",
   "metadata": {
    "id": "XGMAyf8thIGG"
   },
   "source": [
    "8. Train a AdaBoost classifier to predict the variable income based on the feature variables selected in 2 and compare it to the previous classifiers."
   ]
  },
  {
   "cell_type": "code",
   "execution_count": 19,
   "metadata": {
    "id": "QHE4kKSv4mD7"
   },
   "outputs": [],
   "source": [
    "# Init AdaBoost classifier\n",
    "ada_classi = AdaBoostClassifier(n_estimators=100, random_state=42)\n",
    "ada_classi.fit(X_train, y_train)\n",
    "# Predict\n",
    "y_pred_ada = ada_classi.predict(X_test)\n",
    "# Evaluate\n",
    "ada_accuracy = accuracy_score(y_test, y_pred_ada)"
   ]
  },
  {
   "cell_type": "markdown",
   "metadata": {
    "id": "mgQW0TLq6KpI"
   },
   "source": [
    "Lets compare the now 5 classifiers, to find the best performing for this scenario of Education + Age vs Income scenario"
   ]
  },
  {
   "cell_type": "code",
   "execution_count": 20,
   "metadata": {
    "colab": {
     "base_uri": "https://localhost:8080/"
    },
    "executionInfo": {
     "elapsed": 6,
     "status": "ok",
     "timestamp": 1741993674862,
     "user": {
      "displayName": "Daniel Iversen",
      "userId": "04843677771367093898"
     },
     "user_tz": -60
    },
    "id": "hsq-q3N66XMO",
    "outputId": "33f929a5-0fbc-45dc-ab7d-e44693e645cd"
   },
   "outputs": [
    {
     "name": "stdout",
     "output_type": "stream",
     "text": [
      "Contenders:\n",
      "KNN Accuracy: 0.776230934589006\n",
      "Logistic Regression Accuracy: 0.7801207902548879\n",
      "Decision Tree Accuracy: 0.7904596171563107\n",
      "Random Forest Accuracy: 0.7923021803664654\n",
      "AdaBoost Accuracy: 0.7888217831917289\n",
      "Highest acc:\n",
      "Random Forest Classifier WINS!!!\n"
     ]
    }
   ],
   "source": [
    "# Lets compare again\n",
    "print(\"Contenders:\")\n",
    "print(\"KNN Accuracy: \" + str(accuracy))  # Ensure 'accuracy' is your KNN accuracy variable\n",
    "print(\"Logistic Regression Accuracy: \" + str(log_reg_accuracy))\n",
    "print(\"Decision Tree Accuracy: \" + str(tree_accuracy))\n",
    "print(\"Random Forest Accuracy: \" + str(rf_accuracy))\n",
    "print(\"AdaBoost Accuracy: \" + str(ada_accuracy))\n",
    "# Choose the best performing model and print it\n",
    "print(\"Highest acc:\")\n",
    "if accuracy > max(log_reg_accuracy, tree_accuracy, rf_accuracy, ada_accuracy):\n",
    "     print(\"KNN (K=\" + str(k) + \") WINS!!!\")\n",
    "elif log_reg_accuracy > max(accuracy, tree_accuracy, rf_accuracy, ada_accuracy):\n",
    "    print(\"Logistic Regression WINS!!!\")\n",
    "elif tree_accuracy > max(accuracy, log_reg_accuracy, rf_accuracy, ada_accuracy):\n",
    "    print(\"Decision Tree Classifier WINS!!!\")\n",
    "elif rf_accuracy > max(accuracy, log_reg_accuracy, tree_accuracy, ada_accuracy):\n",
    "    print(\"Random Forest Classifier WINS!!!\")\n",
    "elif ada_accuracy > max(accuracy, log_reg_accuracy, tree_accuracy, rf_accuracy):\n",
    "    print(\"AdaBoost Classifier WINS!!!\")\n",
    "else:\n",
    "    print(\"All models have the same accuracy score\")"
   ]
  },
  {
   "cell_type": "markdown",
   "metadata": {
    "id": "QALrqBoDhRfO"
   },
   "source": [
    "---"
   ]
  },
  {
   "cell_type": "markdown",
   "metadata": {
    "id": "unI2GZ_05KkZ"
   },
   "source": [
    "### Take aways\n",
    "\n",
    "Setting up a classification pipeline like thise can help choosing the most optimal classifier for a given task. Simply run the pipeline and compare the results, choose the best performer for the task at hand."
   ]
  }
 ],
 "metadata": {
  "colab": {
   "authorship_tag": "ABX9TyMTiCh7tGCz/bjlFk0n1e9d",
   "provenance": []
  },
  "kernelspec": {
   "display_name": "Python 3",
   "name": "python3"
  },
  "language_info": {
   "codemirror_mode": {
    "name": "ipython",
    "version": 3
   },
   "file_extension": ".py",
   "mimetype": "text/x-python",
   "name": "python",
   "nbconvert_exporter": "python",
   "pygments_lexer": "ipython3",
   "version": "3.12.3"
  }
 },
 "nbformat": 4,
 "nbformat_minor": 0
}
