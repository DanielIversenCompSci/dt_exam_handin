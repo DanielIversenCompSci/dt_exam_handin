{
 "cells": [
  {
   "cell_type": "markdown",
   "metadata": {},
   "source": [
    "# 12: Generative AI\n",
    "\n",
    "The hand-in exercise for this topic is in the notebook named ‘rag_task.ipynb’. Do all 4\n",
    "tasks within this notebook. For task 2, you should try at least 3 types of chunking such as\n",
    "chunk in paragraphs, sentences or even by punctuation marks – you are welcome to\n",
    "choose your own chunking strategy. For task 4 you should try at least one other type of\n",
    "similarity or distance function to calculate the similarity."
   ]
  },
  {
   "cell_type": "markdown",
   "metadata": {},
   "source": [
    "### Task\n",
    "1. Creat a RAG pipeline that can take following text and answer following questions\n",
    "2. Try different types of chunking to get better answers?\n",
    "3. Does asking questions differently give better answers? Why?\n",
    "4. Try a different similarity search instead of cosine similarity - do the answers improve?"
   ]
  },
  {
   "cell_type": "code",
   "execution_count": 62,
   "metadata": {},
   "outputs": [],
   "source": [
    "\n",
    "sample_text = \"\"\"\n",
    "The Amazon rainforest is the largest tropical rainforest in the world, covering approximately 5.5 million square kilometers. It spans across nine countries, including Brazil, Peru, and Colombia. The rainforest is home to around 10% of the known species on Earth, including jaguars, sloths, and thousands of species of insects and birds.\n",
    "\n",
    "Deforestation is a significant threat to the Amazon, with thousands of square kilometers lost each year due to agriculture, logging, and urbanization. This deforestation contributes to climate change, as the rainforest acts as a major carbon sink, absorbing millions of tons of carbon dioxide annually.\n",
    "\n",
    "Indigenous tribes have lived in the Amazon for thousands of years, relying on its rich biodiversity for food, medicine, and shelter. These tribes have unique languages, traditions, and knowledge of the ecosystem. However, many face threats from illegal land encroachment and industrial activities.\n",
    "\n",
    "Scientists believe that the Amazon plays a crucial role in global weather patterns by releasing water vapor into the atmosphere, which influences rainfall across South America and even other continents. The Amazon River, which flows through the rainforest, is the second longest river in the world and carries more water than any other river.\n",
    "\n",
    "Efforts to protect the Amazon include international agreements, conservation programs, and sustainable development projects that aim to balance economic growth with environmental protection. Many organizations and governments are working to reduce illegal logging and promote reforestation initiatives.\n",
    "\"\"\""
   ]
  },
  {
   "cell_type": "code",
   "execution_count": 63,
   "metadata": {},
   "outputs": [],
   "source": [
    "# Properly formulated questions for the sample text\n",
    "questions = [\n",
    "    \"What is the Amazon rainforest?\",\n",
    "    \"Which countries does the Amazon span across?\",\n",
    "    \"Why is deforestation a problem in the Amazon?\",\n",
    "    \"How does the Amazon rainforest affect global weather patterns?\",\n",
    "    \"What role do indigenous tribes play in the Amazon?\",\n",
    "    \"What is the importance of the Amazon River?\",\n",
    "    \"What types of wildlife can be found in the Amazon?\",\n",
    "    \"How does deforestation contribute to climate change?\",\n",
    "    \"What efforts are being made to protect the Amazon?\",\n",
    "    \"Why is the Amazon considered a major carbon sink?\"\n",
    "]"
   ]
  },
  {
   "cell_type": "markdown",
   "metadata": {},
   "source": [
    "### Imports"
   ]
  },
  {
   "cell_type": "code",
   "execution_count": 64,
   "metadata": {},
   "outputs": [],
   "source": [
    "import numpy as np\n",
    "from sentence_transformers import SentenceTransformer\n",
    "from sklearn.metrics.pairwise import cosine_similarity\n",
    "from sklearn.metrics.pairwise import euclidean_distances\n",
    "from transformers import pipeline\n",
    "import re"
   ]
  },
  {
   "cell_type": "markdown",
   "metadata": {},
   "source": [
    "### Starting to build the pipeline:\n",
    "\n",
    "Taking inspiration from the method used in the lecture"
   ]
  },
  {
   "cell_type": "code",
   "execution_count": 65,
   "metadata": {},
   "outputs": [
    {
     "name": "stderr",
     "output_type": "stream",
     "text": [
      "No model was supplied, defaulted to distilbert/distilbert-base-cased-distilled-squad and revision 564e9b5 (https://huggingface.co/distilbert/distilbert-base-cased-distilled-squad).\n",
      "Using a pipeline without specifying a model name and revision in production is not recommended.\n",
      "Device set to use cpu\n"
     ]
    }
   ],
   "source": [
    "# Choose our model, in this case, we are using the MiniLM model\n",
    "MODEL_NAME = \"sentence-transformers/all-MiniLM-L6-v2\"\n",
    "model = SentenceTransformer(MODEL_NAME)\n",
    "\n",
    "# Load a pre-trained question-answering model pipeline from transformers library\n",
    "qa_pipeline = pipeline(\"question-answering\")"
   ]
  },
  {
   "cell_type": "markdown",
   "metadata": {},
   "source": [
    "#### Defining the necessarry funcitons:"
   ]
  },
  {
   "cell_type": "code",
   "execution_count": 66,
   "metadata": {},
   "outputs": [],
   "source": [
    "# Split the text into paragraphs, also known as chunks in generative AI training\n",
    "def split_text(text):\n",
    "    return [para.strip() for para in re.split(\"\\n+\", text) if para.strip()]\n",
    "\n",
    "# Making numerical representations of the text for the model to understand\n",
    "stored_texts = split_text(sample_text)  # Store each paragraph separately\n",
    "stored_embeddings = model.encode(stored_texts, convert_to_numpy=True)  # Store embeddings for each chunk\n",
    "\n",
    "# Function to trun the text into embeddings\n",
    "def get_transformer_embeddings(texts):\n",
    "    return model.encode(texts, convert_to_numpy=True)\n",
    "\n",
    "# ONE FOR COSINE SIMILARITY SEARCH\n",
    "# Functionss to return the most similar paragraph to the query paragraph!\n",
    "def cosine_retrieve_passage(query):\n",
    "    query_embedding = get_transformer_embeddings([query])\n",
    "    similarities = cosine_similarity(query_embedding, stored_embeddings)[0]\n",
    "    best_match_idx = np.argmax(similarities)\n",
    "    return stored_texts[best_match_idx]\n",
    "\n",
    "# QA function to answer questions\n",
    "def cosine_answer_question(query):\n",
    "    relevant_passage = cosine_retrieve_passage(query)\n",
    "    answer = qa_pipeline(question=query, context=relevant_passage)\n",
    "    return answer['answer']\n",
    "\n",
    "# ONE FOR EUCLIDEAN DISTANCE SIMILARITY SEARCH\n",
    "# Functionss to return the most similar paragraph to the query paragraph!\n",
    "def euclidean_retrieve_passage(query):\n",
    "    query_embedding = get_transformer_embeddings([query])\n",
    "    similarities = euclidean_distances(query_embedding, stored_embeddings)[0]\n",
    "    best_match_idx = np.argmax(similarities)\n",
    "    return stored_texts[best_match_idx]\n",
    "\n",
    "# QA function to answer questions\n",
    "def euclidean_answer_question(query):\n",
    "    relevant_passage = euclidean_retrieve_passage(query)\n",
    "    answer = qa_pipeline(question=query, context=relevant_passage)\n",
    "    return answer['answer']"
   ]
  },
  {
   "cell_type": "markdown",
   "metadata": {},
   "source": [
    "#### QA Results using based on coisine similarity search"
   ]
  },
  {
   "cell_type": "code",
   "execution_count": 67,
   "metadata": {},
   "outputs": [
    {
     "name": "stdout",
     "output_type": "stream",
     "text": [
      "\n",
      "Sample Questions and Answers:\n",
      "\n",
      "Q: What is the Amazon rainforest?\n",
      "A: largest tropical rainforest in the world\n",
      "\n",
      "Q: Which countries does the Amazon span across?\n",
      "A: Brazil, Peru, and Colombia\n",
      "\n",
      "Q: Why is deforestation a problem in the Amazon?\n",
      "A: climate change\n",
      "\n",
      "Q: How does the Amazon rainforest affect global weather patterns?\n",
      "A: releasing water vapor into the atmosphere\n",
      "\n",
      "Q: What role do indigenous tribes play in the Amazon?\n",
      "A: relying on its rich biodiversity for food, medicine, and shelter\n",
      "\n",
      "Q: What is the importance of the Amazon River?\n",
      "A: global weather patterns\n",
      "\n",
      "Q: What types of wildlife can be found in the Amazon?\n",
      "A: Indigenous tribes\n",
      "\n",
      "Q: How does deforestation contribute to climate change?\n",
      "A: the rainforest acts as a major carbon sink\n",
      "\n",
      "Q: What efforts are being made to protect the Amazon?\n",
      "A: international agreements, conservation programs, and sustainable development projects\n",
      "\n",
      "Q: Why is the Amazon considered a major carbon sink?\n",
      "A: climate change\n",
      "\n"
     ]
    }
   ],
   "source": [
    "print(\"\\nSample Questions and Answers:\\n\")\n",
    "for question in questions:\n",
    "    response = cosine_answer_question(question)\n",
    "    print(f\"Q: {question}\\nA: {response}\\n\")"
   ]
  },
  {
   "cell_type": "markdown",
   "metadata": {},
   "source": [
    "#### QA Resutls based on Euclidean Distance similarity search"
   ]
  },
  {
   "cell_type": "code",
   "execution_count": 68,
   "metadata": {},
   "outputs": [
    {
     "name": "stdout",
     "output_type": "stream",
     "text": [
      "\n",
      "Sample Questions and Answers:\n",
      "\n",
      "Q: What is the Amazon rainforest?\n",
      "A: rich biodiversity\n",
      "\n",
      "Q: Which countries does the Amazon span across?\n",
      "A: agriculture, logging, and urbanization\n",
      "\n",
      "Q: Why is deforestation a problem in the Amazon?\n",
      "A: The rainforest is home to around 10% of the known species on Earth\n",
      "\n",
      "Q: How does the Amazon rainforest affect global weather patterns?\n",
      "A: relying on its rich biodiversity for food, medicine, and shelter\n",
      "\n",
      "Q: What role do indigenous tribes play in the Amazon?\n",
      "A: Amazon rainforest is the largest tropical rainforest in the world\n",
      "\n",
      "Q: What is the importance of the Amazon River?\n",
      "A: tropical rainforest in the world\n",
      "\n",
      "Q: What types of wildlife can be found in the Amazon?\n",
      "A: rainfall across South America and even other continents\n",
      "\n",
      "Q: How does deforestation contribute to climate change?\n",
      "A: rich biodiversity for food, medicine, and shelter\n",
      "\n",
      "Q: What efforts are being made to protect the Amazon?\n",
      "A: Amazon rainforest is the largest tropical rainforest in the world\n",
      "\n",
      "Q: Why is the Amazon considered a major carbon sink?\n",
      "A: rich biodiversity for food, medicine, and shelter\n",
      "\n"
     ]
    }
   ],
   "source": [
    "print(\"\\nSample Questions and Answers:\\n\")\n",
    "for question in questions:\n",
    "    response = euclidean_answer_question(question)\n",
    "    print(f\"Q: {question}\\nA: {response}\\n\")"
   ]
  },
  {
   "cell_type": "markdown",
   "metadata": {},
   "source": [
    "### Comparison Cosine vs Euclidean:\n",
    "\n",
    "Lets compare the first 5 Q & A from both the similarity searches"
   ]
  },
  {
   "cell_type": "markdown",
   "metadata": {},
   "source": [
    "##### **Cosine Similarity**\n",
    "Q: What is the Amazon rainforest?\n",
    "A: largest tropical rainforest in the world\n",
    "\n",
    "Q: Which countries does the Amazon span across?\n",
    "A: Brazil, Peru, and Colombia\n",
    "\n",
    "Q: Why is deforestation a problem in the Amazon?\n",
    "A: climate change\n",
    "\n",
    "Q: How does the Amazon rainforest affect global weather patterns?\n",
    "A: releasing water vapor into the atmosphere\n",
    "\n",
    "Q: What role do indigenous tribes play in the Amazon?\n",
    "A: relying on its rich biodiversity for food, medicine, and shelter"
   ]
  },
  {
   "cell_type": "markdown",
   "metadata": {},
   "source": [
    "##### **Euclidean Distance**\n",
    "\n",
    "Q: What is the Amazon rainforest?\n",
    "A: rich biodiversity\n",
    "\n",
    "Q: Which countries does the Amazon span across?\n",
    "A: agriculture, logging, and urbanization\n",
    "\n",
    "Q: Why is deforestation a problem in the Amazon?\n",
    "A: The rainforest is home to around 10% of the known species on Earth\n",
    "\n",
    "Q: How does the Amazon rainforest affect global weather patterns?\n",
    "A: relying on its rich biodiversity for food, medicine, and shelter\n",
    "\n",
    "Q: What role do indigenous tribes play in the Amazon?\n",
    "A: Amazon rainforest is the largest tropical rainforest in the world"
   ]
  },
  {
   "cell_type": "markdown",
   "metadata": {},
   "source": [
    "### Conclusion\n",
    "\n",
    "The use of similarity search in generative AI indeed do affect the answers\n",
    "\n",
    "* Answers seem to stick under the same definition, but formulations will vary\n",
    "* Some Q&A's are identical\n",
    "* None of the tested methods seem to be giving incorrect answers"
   ]
  },
  {
   "cell_type": "markdown",
   "metadata": {},
   "source": [
    "---\n"
   ]
  },
  {
   "cell_type": "markdown",
   "metadata": {},
   "source": [
    "### Now lets try to pass in more poorly formulated questions to see if it has an effect on the response\n",
    "\n",
    "Anything that is somewhat under the same definition is deemed acceptable. Im going to use just cosine similarity for this experiment."
   ]
  },
  {
   "cell_type": "code",
   "execution_count": 69,
   "metadata": {},
   "outputs": [],
   "source": [
    "# Poorly formulated questions for the sample text\n",
    "poor_questions = [\n",
    "    \"Amazon rainforest???????\",\n",
    "    \"Which countries Amazon span\",\n",
    "    \"is deforestation in the Amazon?\",\n",
    "    \"Amazon rainforest affect global weather patterns ro what the hell!?\",\n",
    "    \"Are there tribes in the Amazon? and what do they do there, isnt it boring?\",\n",
    "    \"Is there a amazing river in the Amazon?\",\n",
    "    \"wildlife in amazonasa\",\n",
    "    \"deforation and climate change?\",\n",
    "    \"are someone protecting the Amazon?\",\n",
    "    \"carboin sink? in thae Amazon?\"\n",
    "]"
   ]
  },
  {
   "cell_type": "code",
   "execution_count": 70,
   "metadata": {},
   "outputs": [
    {
     "name": "stdout",
     "output_type": "stream",
     "text": [
      "\n",
      "Sample Questions and Answers:\n",
      "\n",
      "Q: Amazon rainforest???????\n",
      "A: tropical rainforest in the world\n",
      "\n",
      "Q: Which countries Amazon span\n",
      "A: Brazil, Peru, and Colombia\n",
      "\n",
      "Q: is deforestation in the Amazon?\n",
      "A: This deforestation contributes to climate change\n",
      "\n",
      "Q: Amazon rainforest affect global weather patterns ro what the hell!?\n",
      "A: releasing water vapor into the atmosphere\n",
      "\n",
      "Q: Are there tribes in the Amazon? and what do they do there, isnt it boring?\n",
      "A: These tribes have unique languages, traditions, and knowledge of the ecosystem\n",
      "\n",
      "Q: Is there a amazing river in the Amazon?\n",
      "A: the second longest river in the world and carries more water than any other river\n",
      "\n",
      "Q: wildlife in amazonasa\n",
      "A: Amazon\n",
      "\n",
      "Q: deforation and climate change?\n",
      "A: the rainforest acts as a major carbon sink\n",
      "\n",
      "Q: are someone protecting the Amazon?\n",
      "A: international agreements, conservation programs, and sustainable development projects\n",
      "\n",
      "Q: carboin sink? in thae Amazon?\n",
      "A: Amazon River\n",
      "\n"
     ]
    }
   ],
   "source": [
    "print(\"\\nSample Questions and Answers:\\n\")\n",
    "for question in poor_questions:\n",
    "    response = cosine_answer_question(question)\n",
    "    print(f\"Q: {question}\\nA: {response}\\n\")"
   ]
  },
  {
   "cell_type": "markdown",
   "metadata": {},
   "source": [
    "#### Conclusion\n",
    "\n",
    "* Question formulation seem to play an impactfull role in the accuracy of answers\n",
    "* Short questions lead to short answers\n",
    "* Lacking explenations compared to proper formulated questions"
   ]
  }
 ],
 "metadata": {
  "kernelspec": {
   "display_name": "Python 3",
   "language": "python",
   "name": "python3"
  },
  "language_info": {
   "codemirror_mode": {
    "name": "ipython",
    "version": 3
   },
   "file_extension": ".py",
   "mimetype": "text/x-python",
   "name": "python",
   "nbconvert_exporter": "python",
   "pygments_lexer": "ipython3",
   "version": "3.12.3"
  }
 },
 "nbformat": 4,
 "nbformat_minor": 2
}
